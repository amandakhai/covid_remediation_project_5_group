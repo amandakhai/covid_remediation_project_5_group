{
 "cells": [
  {
   "cell_type": "markdown",
   "id": "hungarian-thomson",
   "metadata": {},
   "source": [
    "# CDC County Data Transformation\n",
    "\n",
    "* **This data will be explored for cleaning**\n",
    "* Data will be used to join with other social and medical information\n",
    "\n",
    "Note, this notebook is especially long, because values were being checked to see what types of null substitutions to perform, etc.  "
   ]
  },
  {
   "cell_type": "markdown",
   "id": "thirty-hazard",
   "metadata": {},
   "source": [
    "**First perform imports**"
   ]
  },
  {
   "cell_type": "code",
   "execution_count": 1,
   "id": "capable-south",
   "metadata": {},
   "outputs": [],
   "source": [
    "import pandas as pd\n",
    "# ref https://stackoverflow.com/questions/23045318/scikit-grid-search-over-multiple-classifiers\n",
    "\n",
    "from sklearn.pipeline import Pipeline\n",
    "from sklearn.model_selection import GridSearchCV,RandomizedSearchCV\n",
    "from sklearn.preprocessing import StandardScaler, MaxAbsScaler,FunctionTransformer\n",
    "from sklearn.svm import SVR, SVC\n",
    "from sklearn.ensemble import GradientBoostingClassifier, \\\n",
    "                            AdaBoostClassifier,AdaBoostRegressor, \\\n",
    "                            VotingClassifier, \\\n",
    "                            RandomForestClassifier\n",
    "from sklearn.ensemble import RandomForestClassifier, RandomForestRegressor\n",
    "from sklearn.neighbors import KNeighborsClassifier, KNeighborsRegressor # can use KNeighborsClassifier as regressor\n",
    "from sklearn.model_selection import train_test_split, cross_val_score, KFold\n",
    "from sklearn import datasets\n",
    "from sklearn.linear_model import LogisticRegression, LogisticRegressionCV\n",
    "from sklearn.tree import DecisionTreeClassifier, DecisionTreeRegressor\n",
    "from sklearn import metrics\n",
    "import numpy as np\n",
    "import matplotlib.pyplot as plt\n",
    "import re\n",
    "\n",
    "from sklearn.pipeline import Pipeline,FeatureUnion\n",
    "from sklearn.linear_model import LinearRegression\n",
    "\n",
    "import pickle\n",
    "from sklearn.ensemble import BaggingClassifier, BaggingRegressor\n",
    "from sklearn.model_selection import train_test_split, cross_val_score, KFold\n",
    "import datetime as datetime\n"
   ]
  },
  {
   "cell_type": "markdown",
   "id": "clinical-province",
   "metadata": {},
   "source": [
    "**Load extracted CDC county csv data into pandas**"
   ]
  },
  {
   "cell_type": "code",
   "execution_count": 2,
   "id": "banner-luther",
   "metadata": {},
   "outputs": [
    {
     "name": "stderr",
     "output_type": "stream",
     "text": [
      "/Users/jenfong/opt/anaconda3/lib/python3.8/site-packages/IPython/core/interactiveshell.py:3165: DtypeWarning: Columns (34,35) have mixed types.Specify dtype option on import or set low_memory=False.\n",
      "  has_raised = await self.run_ast_nodes(code_ast.body, cell_name,\n"
     ]
    }
   ],
   "source": [
    "counties_df = pd.read_csv('../data/cdc_counties.tmp.csv')"
   ]
  },
  {
   "cell_type": "code",
   "execution_count": 3,
   "id": "confidential-right",
   "metadata": {},
   "outputs": [],
   "source": [
    "pd.set_option('display.max_rows', 500)\n",
    "pd.set_option('display.max_columns', 500)\n",
    "pd.set_option('display.width', 1000)\n"
   ]
  },
  {
   "cell_type": "markdown",
   "id": "suited-courtesy",
   "metadata": {},
   "source": [
    "## Preliminary EDA - null counts"
   ]
  },
  {
   "cell_type": "markdown",
   "id": "classical-color",
   "metadata": {},
   "source": [
    "There are a lot of columns with nulls and are hard to see in the notebook.  Here we take an initial look at columns with literals to get an idea of the extent of the nulls"
   ]
  },
  {
   "cell_type": "code",
   "execution_count": 4,
   "id": "grave-perception",
   "metadata": {},
   "outputs": [
    {
     "data": {
      "text/plain": [
       "168095"
      ]
     },
     "execution_count": 4,
     "metadata": {},
     "output_type": "execute_result"
    }
   ],
   "source": [
    "\n",
    "counties_df['CBSA type'].isna().sum()\n"
   ]
  },
  {
   "cell_type": "code",
   "execution_count": 5,
   "id": "altered-fight",
   "metadata": {},
   "outputs": [
    {
     "data": {
      "text/plain": [
       "16071"
      ]
     },
     "execution_count": 5,
     "metadata": {},
     "output_type": "execute_result"
    }
   ],
   "source": [
    " \n",
    "counties_df['County type'].isna().sum()\n"
   ]
  },
  {
   "cell_type": "code",
   "execution_count": 6,
   "id": "horizontal-right",
   "metadata": {},
   "outputs": [
    {
     "data": {
      "text/plain": [
       "6399"
      ]
     },
     "execution_count": 6,
     "metadata": {},
     "output_type": "execute_result"
    }
   ],
   "source": [
    "counties_df['IHE with >5000 full-time enrollment'].isnull().sum() "
   ]
  },
  {
   "cell_type": "markdown",
   "id": "empirical-helmet",
   "metadata": {},
   "source": [
    "#### Check nulls and value range"
   ]
  },
  {
   "cell_type": "code",
   "execution_count": 7,
   "id": "improved-demographic",
   "metadata": {},
   "outputs": [
    {
     "data": {
      "text/plain": [
       "168095"
      ]
     },
     "execution_count": 7,
     "metadata": {},
     "output_type": "execute_result"
    }
   ],
   "source": [
    "counties_df['Population as a percent of CBSA'].isnull().sum()"
   ]
  },
  {
   "cell_type": "markdown",
   "id": "proved-sharp",
   "metadata": {},
   "source": [
    "Check values to make sure that 1.0 means 100%"
   ]
  },
  {
   "cell_type": "code",
   "execution_count": 8,
   "id": "lesser-award",
   "metadata": {},
   "outputs": [
    {
     "data": {
      "text/plain": [
       "count    237584.000000\n",
       "mean          0.490084\n",
       "std           0.416490\n",
       "min           0.001200\n",
       "25%           0.079625\n",
       "50%           0.347950\n",
       "75%           1.000000\n",
       "max           1.000000\n",
       "Name: Population as a percent of CBSA, dtype: float64"
      ]
     },
     "execution_count": 8,
     "metadata": {},
     "output_type": "execute_result"
    }
   ],
   "source": [
    "counties_df['Population as a percent of CBSA'].describe()"
   ]
  },
  {
   "cell_type": "markdown",
   "id": "compound-refund",
   "metadata": {},
   "source": [
    "**Identify columns which contribute data points that can vary from county to county and do not give a sense of a change in covid trajectory.  Most of these columns have similar columns in the dataframe that show change**\n",
    "\n",
    "This is a first pass"
   ]
  },
  {
   "cell_type": "code",
   "execution_count": 9,
   "id": "english-chambers",
   "metadata": {},
   "outputs": [],
   "source": [
    "drop_columns = ['IHE Full-time enrollment', 'CBSA', 'Population as a percent of CBSA', 'FEMA region',\n",
    "               'Cases - last 7 days', 'Cases per 100k - last 7 days','Deaths - last 7 days','Deaths per 100k - last 7 days',\n",
    "               'Cases - previous 7 days','Cases per 100k - previous 7 days','Deaths - previous 7 days',\n",
    "                'Deaths per 100k - previous 7 days','Cumulative cases','Cumulative cases per 100k','Cumulative deaths',\n",
    "                'Cumulative deaths per 100k','Total RT-PCR diagnostic tests - last 7 days (may be an underestimate due to delayed reporting)',\n",
    "                'RT-PCR tests per 100k - last 7 days (may be an underestimate due to delayed reporting)','Median test latency - last 7 days',\n",
    "                'Viral (RT-PCR) lab test positivity rate - previous 7 days (may be an underestimate due to delayed reporting)','Total RT-PCR diagnostic tests - previous 7 days (may be an underestimate due to delayed reporting)',\n",
    "                'RT-PCR tests per 100k - previous 7 days(may be an underestimate due to delayed reporting)','Median test latency - last 7 days.1',\n",
    "                '% tests resulted in 3 or fewer days - last 7 days.1']"
   ]
  },
  {
   "cell_type": "code",
   "execution_count": 10,
   "id": "painful-origin",
   "metadata": {},
   "outputs": [],
   "source": [
    "reduced_df = counties_df.drop(columns=drop_columns)"
   ]
  },
  {
   "cell_type": "markdown",
   "id": "listed-traffic",
   "metadata": {},
   "source": [
    "Second pass at dropping data"
   ]
  },
  {
   "cell_type": "code",
   "execution_count": 11,
   "id": "spread-inquiry",
   "metadata": {},
   "outputs": [],
   "source": [
    "drop_columns_2 = ['Total # of hospital CCNs','Total inpatient beds among hospitals reporting - last 7 days',\n",
    "                  'Total staffed adult ICU beds among hospitals reporting - last 7 days',\n",
    "                  'Total ventilators among hospitals reporting - last 7 days','People who are fully vaccinated',\n",
    "                 'People who are fully vaccinated - ages 65+', 'Population']"
   ]
  },
  {
   "cell_type": "code",
   "execution_count": 12,
   "id": "digital-baseline",
   "metadata": {},
   "outputs": [],
   "source": [
    "reduced_df.drop(columns = drop_columns_2, inplace=True)"
   ]
  },
  {
   "cell_type": "markdown",
   "id": "virtual-abortion",
   "metadata": {},
   "source": [
    "We make our third pass at identifying dropping candidates, columns with literals or values which won't be used in visualization or modeling.  'County only' was a column that was created through feature engineering; however many states have counties with the same name, so this hasn't been helpful for joining or checking differences"
   ]
  },
  {
   "cell_type": "code",
   "execution_count": 13,
   "id": "unauthorized-davis",
   "metadata": {},
   "outputs": [],
   "source": [
    "drop_columns_3 = ['County only', 'Median test latency - 15-21 days ago',\n",
    "                  'Total RT-PCR diagnostic tests - 15-21 days ago (may be an underestimate due to delayed reporting)',\n",
    "                  'RT-PCR tests per 100k - 15-21 days ago (may be an underestimate due to delayed reporting)']"
   ]
  },
  {
   "cell_type": "code",
   "execution_count": 14,
   "id": "intelligent-continuity",
   "metadata": {},
   "outputs": [],
   "source": [
    "reduced_df.drop(columns=drop_columns_3, inplace=True)"
   ]
  },
  {
   "cell_type": "markdown",
   "id": "quality-variety",
   "metadata": {},
   "source": [
    "## See what labels can be mapped to ordinals in a possible sorted order"
   ]
  },
  {
   "cell_type": "markdown",
   "id": "verified-necklace",
   "metadata": {},
   "source": [
    "Random Forest breaks up the data by sorting at each node.  Most models don't handle labels well.  Here we look to see if the State Abbreviations can be assigned numbers and a sorted order mapped to these states, rather than doing one hot encoding.  \n",
    "\n",
    "In the end, we decided to leave in the State Abbreviations for possible use in the visualizations from all our combined datasets, while not using it directly in modeling."
   ]
  },
  {
   "cell_type": "code",
   "execution_count": 15,
   "id": "tamil-optimization",
   "metadata": {
    "scrolled": true
   },
   "outputs": [
    {
     "data": {
      "text/html": [
       "<div>\n",
       "<style scoped>\n",
       "    .dataframe tbody tr th:only-of-type {\n",
       "        vertical-align: middle;\n",
       "    }\n",
       "\n",
       "    .dataframe tbody tr th {\n",
       "        vertical-align: top;\n",
       "    }\n",
       "\n",
       "    .dataframe thead th {\n",
       "        text-align: right;\n",
       "    }\n",
       "</style>\n",
       "<table border=\"1\" class=\"dataframe\">\n",
       "  <thead>\n",
       "    <tr style=\"text-align: right;\">\n",
       "      <th></th>\n",
       "      <th>Forecasted case trajectory</th>\n",
       "    </tr>\n",
       "    <tr>\n",
       "      <th>State Abbreviation</th>\n",
       "      <th></th>\n",
       "    </tr>\n",
       "  </thead>\n",
       "  <tbody>\n",
       "    <tr>\n",
       "      <th>GA</th>\n",
       "      <td>2746</td>\n",
       "    </tr>\n",
       "    <tr>\n",
       "      <th>TX</th>\n",
       "      <td>2280</td>\n",
       "    </tr>\n",
       "    <tr>\n",
       "      <th>NC</th>\n",
       "      <td>1873</td>\n",
       "    </tr>\n",
       "    <tr>\n",
       "      <th>VA</th>\n",
       "      <td>1825</td>\n",
       "    </tr>\n",
       "    <tr>\n",
       "      <th>TN</th>\n",
       "      <td>1761</td>\n",
       "    </tr>\n",
       "    <tr>\n",
       "      <th>IN</th>\n",
       "      <td>1728</td>\n",
       "    </tr>\n",
       "    <tr>\n",
       "      <th>KY</th>\n",
       "      <td>1656</td>\n",
       "    </tr>\n",
       "    <tr>\n",
       "      <th>PA</th>\n",
       "      <td>1613</td>\n",
       "    </tr>\n",
       "    <tr>\n",
       "      <th>OH</th>\n",
       "      <td>1606</td>\n",
       "    </tr>\n",
       "    <tr>\n",
       "      <th>NY</th>\n",
       "      <td>1566</td>\n",
       "    </tr>\n",
       "    <tr>\n",
       "      <th>CA</th>\n",
       "      <td>1505</td>\n",
       "    </tr>\n",
       "    <tr>\n",
       "      <th>FL</th>\n",
       "      <td>1407</td>\n",
       "    </tr>\n",
       "    <tr>\n",
       "      <th>MS</th>\n",
       "      <td>1205</td>\n",
       "    </tr>\n",
       "    <tr>\n",
       "      <th>MI</th>\n",
       "      <td>1197</td>\n",
       "    </tr>\n",
       "    <tr>\n",
       "      <th>IL</th>\n",
       "      <td>1140</td>\n",
       "    </tr>\n",
       "    <tr>\n",
       "      <th>OK</th>\n",
       "      <td>1133</td>\n",
       "    </tr>\n",
       "    <tr>\n",
       "      <th>SC</th>\n",
       "      <td>1075</td>\n",
       "    </tr>\n",
       "    <tr>\n",
       "      <th>AL</th>\n",
       "      <td>969</td>\n",
       "    </tr>\n",
       "    <tr>\n",
       "      <th>WV</th>\n",
       "      <td>939</td>\n",
       "    </tr>\n",
       "    <tr>\n",
       "      <th>AR</th>\n",
       "      <td>843</td>\n",
       "    </tr>\n",
       "    <tr>\n",
       "      <th>LA</th>\n",
       "      <td>826</td>\n",
       "    </tr>\n",
       "    <tr>\n",
       "      <th>KS</th>\n",
       "      <td>774</td>\n",
       "    </tr>\n",
       "    <tr>\n",
       "      <th>WI</th>\n",
       "      <td>704</td>\n",
       "    </tr>\n",
       "    <tr>\n",
       "      <th>CO</th>\n",
       "      <td>586</td>\n",
       "    </tr>\n",
       "    <tr>\n",
       "      <th>MN</th>\n",
       "      <td>543</td>\n",
       "    </tr>\n",
       "    <tr>\n",
       "      <th>NJ</th>\n",
       "      <td>533</td>\n",
       "    </tr>\n",
       "    <tr>\n",
       "      <th>IA</th>\n",
       "      <td>531</td>\n",
       "    </tr>\n",
       "    <tr>\n",
       "      <th>AZ</th>\n",
       "      <td>503</td>\n",
       "    </tr>\n",
       "    <tr>\n",
       "      <th>MO</th>\n",
       "      <td>489</td>\n",
       "    </tr>\n",
       "    <tr>\n",
       "      <th>MD</th>\n",
       "      <td>417</td>\n",
       "    </tr>\n",
       "    <tr>\n",
       "      <th>NE</th>\n",
       "      <td>406</td>\n",
       "    </tr>\n",
       "    <tr>\n",
       "      <th>NM</th>\n",
       "      <td>392</td>\n",
       "    </tr>\n",
       "    <tr>\n",
       "      <th>WA</th>\n",
       "      <td>383</td>\n",
       "    </tr>\n",
       "    <tr>\n",
       "      <th>ID</th>\n",
       "      <td>346</td>\n",
       "    </tr>\n",
       "    <tr>\n",
       "      <th>OR</th>\n",
       "      <td>340</td>\n",
       "    </tr>\n",
       "    <tr>\n",
       "      <th>SD</th>\n",
       "      <td>338</td>\n",
       "    </tr>\n",
       "    <tr>\n",
       "      <th>MA</th>\n",
       "      <td>324</td>\n",
       "    </tr>\n",
       "    <tr>\n",
       "      <th>CT</th>\n",
       "      <td>262</td>\n",
       "    </tr>\n",
       "    <tr>\n",
       "      <th>NH</th>\n",
       "      <td>245</td>\n",
       "    </tr>\n",
       "    <tr>\n",
       "      <th>MT</th>\n",
       "      <td>245</td>\n",
       "    </tr>\n",
       "    <tr>\n",
       "      <th>WY</th>\n",
       "      <td>203</td>\n",
       "    </tr>\n",
       "    <tr>\n",
       "      <th>RI</th>\n",
       "      <td>202</td>\n",
       "    </tr>\n",
       "    <tr>\n",
       "      <th>ME</th>\n",
       "      <td>198</td>\n",
       "    </tr>\n",
       "    <tr>\n",
       "      <th>UT</th>\n",
       "      <td>197</td>\n",
       "    </tr>\n",
       "    <tr>\n",
       "      <th>AK</th>\n",
       "      <td>184</td>\n",
       "    </tr>\n",
       "    <tr>\n",
       "      <th>ND</th>\n",
       "      <td>163</td>\n",
       "    </tr>\n",
       "    <tr>\n",
       "      <th>DE</th>\n",
       "      <td>142</td>\n",
       "    </tr>\n",
       "    <tr>\n",
       "      <th>NV</th>\n",
       "      <td>96</td>\n",
       "    </tr>\n",
       "    <tr>\n",
       "      <th>VT</th>\n",
       "      <td>64</td>\n",
       "    </tr>\n",
       "    <tr>\n",
       "      <th>HI</th>\n",
       "      <td>14</td>\n",
       "    </tr>\n",
       "  </tbody>\n",
       "</table>\n",
       "</div>"
      ],
      "text/plain": [
       "                    Forecasted case trajectory\n",
       "State Abbreviation                            \n",
       "GA                                        2746\n",
       "TX                                        2280\n",
       "NC                                        1873\n",
       "VA                                        1825\n",
       "TN                                        1761\n",
       "IN                                        1728\n",
       "KY                                        1656\n",
       "PA                                        1613\n",
       "OH                                        1606\n",
       "NY                                        1566\n",
       "CA                                        1505\n",
       "FL                                        1407\n",
       "MS                                        1205\n",
       "MI                                        1197\n",
       "IL                                        1140\n",
       "OK                                        1133\n",
       "SC                                        1075\n",
       "AL                                         969\n",
       "WV                                         939\n",
       "AR                                         843\n",
       "LA                                         826\n",
       "KS                                         774\n",
       "WI                                         704\n",
       "CO                                         586\n",
       "MN                                         543\n",
       "NJ                                         533\n",
       "IA                                         531\n",
       "AZ                                         503\n",
       "MO                                         489\n",
       "MD                                         417\n",
       "NE                                         406\n",
       "NM                                         392\n",
       "WA                                         383\n",
       "ID                                         346\n",
       "OR                                         340\n",
       "SD                                         338\n",
       "MA                                         324\n",
       "CT                                         262\n",
       "NH                                         245\n",
       "MT                                         245\n",
       "WY                                         203\n",
       "RI                                         202\n",
       "ME                                         198\n",
       "UT                                         197\n",
       "AK                                         184\n",
       "ND                                         163\n",
       "DE                                         142\n",
       "NV                                          96\n",
       "VT                                          64\n",
       "HI                                          14"
      ]
     },
     "execution_count": 15,
     "metadata": {},
     "output_type": "execute_result"
    }
   ],
   "source": [
    "counties_df[(counties_df['Forecasted case trajectory'] == 'Likely Decreasing')][['Forecasted case trajectory', 'State Abbreviation']].\\\n",
    "groupby('State Abbreviation').agg('count').sort_values(by='Forecasted case trajectory', ascending=False) #.index"
   ]
  },
  {
   "cell_type": "markdown",
   "id": "obvious-documentary",
   "metadata": {},
   "source": [
    "Given our target column, the 'Forecasted Case Trajectory', we determined that the model wouldn't be able to do much with each states population or case number data, since the context determines how much the number means and that varies from state to state.  (We also ran diagnostic models using this data and accuracy scores were low)  \n",
    "\n",
    "The final determination was to drop these columns and keep those columns which kept more contextualized information that showed the rate of change from the last worksheet to the current one.\n",
    "\n",
    "The drops were done in stages"
   ]
  },
  {
   "cell_type": "markdown",
   "id": "native-billy",
   "metadata": {},
   "source": [
    "We look at the IHE Column to check values and to see if the nulls can just be filled with zeroes.  We see that 0 is already the mode."
   ]
  },
  {
   "cell_type": "code",
   "execution_count": 16,
   "id": "gross-proposal",
   "metadata": {},
   "outputs": [
    {
     "data": {
      "text/plain": [
       "True     357120\n",
       "False     48559\n",
       "Name: IHE with >5000 full-time enrollment, dtype: int64"
      ]
     },
     "execution_count": 16,
     "metadata": {},
     "output_type": "execute_result"
    }
   ],
   "source": [
    "(reduced_df['IHE with >5000 full-time enrollment']==0).value_counts() "
   ]
  },
  {
   "cell_type": "markdown",
   "id": "familiar-barcelona",
   "metadata": {},
   "source": [
    "We check the enrollment numbers for the counties and see that those counties which have an enrollment number greater than 5000, have non-null values in IHE > 5000, so where there are nulls, there are less than 5000 full-time-enrolled students."
   ]
  },
  {
   "cell_type": "code",
   "execution_count": 17,
   "id": "impaired-google",
   "metadata": {},
   "outputs": [
    {
     "data": {
      "text/plain": [
       "0"
      ]
     },
     "execution_count": 17,
     "metadata": {},
     "output_type": "execute_result"
    }
   ],
   "source": [
    "temp_df = counties_df[(counties_df['IHE Full-time enrollment'] > 5000)]\n",
    "temp_df[('IHE with >5000 full-time enrollment')].isna().sum()"
   ]
  },
  {
   "cell_type": "markdown",
   "id": "interesting-drawing",
   "metadata": {},
   "source": [
    "result is 0 so Nulls just mean 0"
   ]
  },
  {
   "cell_type": "code",
   "execution_count": 18,
   "id": "regular-slovak",
   "metadata": {},
   "outputs": [],
   "source": [
    "column_name = 'IHE with >5000 full-time enrollment'\n",
    "reduced_df[column_name] = reduced_df[column_name].fillna(0)"
   ]
  },
  {
   "cell_type": "markdown",
   "id": "cheap-cedar",
   "metadata": {},
   "source": [
    "Below we bin the IHE > 5000 number into 4 groups, rather than treating it like 11 different categories."
   ]
  },
  {
   "cell_type": "markdown",
   "id": "adopted-waterproof",
   "metadata": {},
   "source": [
    "We tried one-hot-encoding all the categories; however the diagnostic models returned terrible results, much like the week 2 citibike lab.  So for this round of cleaning, we chose to skip breaking up everything into categories."
   ]
  },
  {
   "cell_type": "code",
   "execution_count": 19,
   "id": "enhanced-peter",
   "metadata": {},
   "outputs": [],
   "source": [
    "reduced_df[column_name].value_counts()\n",
    "reduced_df[f'{column_name}_cat'] = reduced_df[column_name].map({0:0, 1:1, 2:1, 3:1, 4:2, 5:2, 6:2, 7:2,\n",
    "                                                               8:3, 9:3, 10:3, 11:3})"
   ]
  },
  {
   "cell_type": "code",
   "execution_count": 20,
   "id": "executed-albania",
   "metadata": {},
   "outputs": [
    {
     "data": {
      "text/plain": [
       "0    363519\n",
       "1     40920\n",
       "2       992\n",
       "3       248\n",
       "Name: IHE with >5000 full-time enrollment_cat, dtype: int64"
      ]
     },
     "execution_count": 20,
     "metadata": {},
     "output_type": "execute_result"
    }
   ],
   "source": [
    "reduced_df[column_name+'_cat'].value_counts()"
   ]
  },
  {
   "cell_type": "code",
   "execution_count": 21,
   "id": "supposed-biography",
   "metadata": {},
   "outputs": [
    {
     "data": {
      "text/html": [
       "<div>\n",
       "<style scoped>\n",
       "    .dataframe tbody tr th:only-of-type {\n",
       "        vertical-align: middle;\n",
       "    }\n",
       "\n",
       "    .dataframe tbody tr th {\n",
       "        vertical-align: top;\n",
       "    }\n",
       "\n",
       "    .dataframe thead th {\n",
       "        text-align: right;\n",
       "    }\n",
       "</style>\n",
       "<table border=\"1\" class=\"dataframe\">\n",
       "  <thead>\n",
       "    <tr style=\"text-align: right;\">\n",
       "      <th></th>\n",
       "      <th>County</th>\n",
       "      <th>FIPS code</th>\n",
       "      <th>County type</th>\n",
       "      <th>CBSA type</th>\n",
       "      <th>State Abbreviation</th>\n",
       "      <th>Population as a percent of state</th>\n",
       "      <th>Population as a percent of national population</th>\n",
       "      <th>IHE with &gt;5000 full-time enrollment</th>\n",
       "      <th>IHE Full-time enrollment as a percent of the population</th>\n",
       "      <th>Cases as a percent of national total - last 7 days</th>\n",
       "      <th>Cases - % change</th>\n",
       "      <th>Deaths - % change</th>\n",
       "      <th>Cases as a percent of national total - previous 7 days</th>\n",
       "      <th>Rapid rise (last 14 days)</th>\n",
       "      <th>Number of days of downward case trajectory</th>\n",
       "      <th>Area of Concern Category</th>\n",
       "      <th>Rapid Riser Category</th>\n",
       "      <th>Community Transmission Level - last 7 days</th>\n",
       "      <th>Community Transmission Level - previous 7 days</th>\n",
       "      <th>Viral (RT-PCR) lab test positivity rate - last 7 days (may be an underestimate due to delayed reporting)</th>\n",
       "      <th>% tests resulted in 3 or fewer days - last 7 days</th>\n",
       "      <th>Viral (RT-PCR) lab test positivity rate - absolute change (may be an underestimate due to delayed reporting)</th>\n",
       "      <th>Total RT-PCR diagnostic tests - % change (may be an underestimate due to delayed reporting)</th>\n",
       "      <th>Testing latency - absolute change</th>\n",
       "      <th>% tests resulted in 3 or fewer days - absolute change</th>\n",
       "      <th>Confirmed COVID-19 admissions - last 7 days</th>\n",
       "      <th>Confirmed COVID-19 admissions per 100 inpatient beds - last 7 days</th>\n",
       "      <th>Suspected COVID-19 admissions - last 7 days</th>\n",
       "      <th>Suspected COVID-19 admissions per 100 inpatient beds - last 7 days</th>\n",
       "      <th>% inpatient beds occupied</th>\n",
       "      <th>% inpatient beds occupied by COVID-19 patient</th>\n",
       "      <th>% staffed adult ICU beds occupied</th>\n",
       "      <th>% staffed adult ICU beds occupied by COVID-19 patient</th>\n",
       "      <th>% ventilators in use</th>\n",
       "      <th>% ventilators in use by COVID-19 patient</th>\n",
       "      <th>Confirmed COVID-19 admissions per 100 inpatient beds - percent increase</th>\n",
       "      <th>Suspected COVID-19 admissions per 100 inpatient beds - percent increase</th>\n",
       "      <th>% inpatient beds occupied - absolute change</th>\n",
       "      <th>% inpatient beds occupied by COVID-19 patient - absolute change</th>\n",
       "      <th>% staffed adult ICU beds occupied - absolute change</th>\n",
       "      <th>% staffed adult ICU beds occupied by COVID-19 patient - absolute change</th>\n",
       "      <th>% ventilators in use - absolute change</th>\n",
       "      <th>% ventilators in use by COVID-19 patient - absolute change</th>\n",
       "      <th>% hospital CCNs reporting any utilization data at least once - last 7 days</th>\n",
       "      <th>% hospital CCNs reporting all utilization data  at least once - last 7 days</th>\n",
       "      <th>% hospital CCNs ever reporting utilization data</th>\n",
       "      <th>% hospital CCNs reporting COVID-19 admissions at least once - last 7 days</th>\n",
       "      <th>People who are fully vaccinated as % of total population</th>\n",
       "      <th>People who are fully vaccinated as % of population - ages 65+</th>\n",
       "      <th>% Uninsured</th>\n",
       "      <th>% In Poverty</th>\n",
       "      <th>% Over Age 65</th>\n",
       "      <th>Average household size</th>\n",
       "      <th>% Non-Hispanic Black</th>\n",
       "      <th>% Hispanic</th>\n",
       "      <th>% Non-Hispanic Native American / Alaskan Native</th>\n",
       "      <th>% Non-Hispanic Asian</th>\n",
       "      <th>SVI score</th>\n",
       "      <th>CCVI score</th>\n",
       "      <th>Forecasted case trajectory</th>\n",
       "      <th>File Date</th>\n",
       "      <th>Viral (RT-PCR) lab test positivity rate - absolute change (may be an underestimate due to delayed reporting).1</th>\n",
       "      <th>Total RT-PCR diagnostic tests - % change (may be an underestimate due to delayed reporting).1</th>\n",
       "      <th>Testing latency - absolute change.1</th>\n",
       "      <th>% tests resulted in 3 or fewer days - absolute change.1</th>\n",
       "      <th>Viral (RT-PCR) lab test positivity rate - 15-21 days ago (may be an underestimate due to delayed reporting)</th>\n",
       "      <th>% tests resulted in 3 or fewer days - 15-21 days ago</th>\n",
       "      <th>% Native American / Alaskan Native</th>\n",
       "      <th>% Asian</th>\n",
       "      <th>IHE with &gt;5000 full-time enrollment_cat</th>\n",
       "    </tr>\n",
       "  </thead>\n",
       "  <tbody>\n",
       "    <tr>\n",
       "      <th>0</th>\n",
       "      <td>Unallocated, MI</td>\n",
       "      <td>26000</td>\n",
       "      <td>NaN</td>\n",
       "      <td>NaN</td>\n",
       "      <td>MI</td>\n",
       "      <td>NaN</td>\n",
       "      <td>NaN</td>\n",
       "      <td>0.0</td>\n",
       "      <td>NaN</td>\n",
       "      <td>0.0602</td>\n",
       "      <td>533.84</td>\n",
       "      <td>160.00</td>\n",
       "      <td>0.000104</td>\n",
       "      <td>NaN</td>\n",
       "      <td>NaN</td>\n",
       "      <td>NaN</td>\n",
       "      <td>NaN</td>\n",
       "      <td>NaN</td>\n",
       "      <td>NaN</td>\n",
       "      <td>0.032</td>\n",
       "      <td>NaN</td>\n",
       "      <td>-0.014</td>\n",
       "      <td>-0.07</td>\n",
       "      <td>NaN</td>\n",
       "      <td>NaN</td>\n",
       "      <td>NaN</td>\n",
       "      <td>NaN</td>\n",
       "      <td>NaN</td>\n",
       "      <td>NaN</td>\n",
       "      <td>NaN</td>\n",
       "      <td>NaN</td>\n",
       "      <td>NaN</td>\n",
       "      <td>NaN</td>\n",
       "      <td>NaN</td>\n",
       "      <td>NaN</td>\n",
       "      <td>NaN</td>\n",
       "      <td>NaN</td>\n",
       "      <td>NaN</td>\n",
       "      <td>NaN</td>\n",
       "      <td>NaN</td>\n",
       "      <td>NaN</td>\n",
       "      <td>NaN</td>\n",
       "      <td>NaN</td>\n",
       "      <td>NaN</td>\n",
       "      <td>NaN</td>\n",
       "      <td>NaN</td>\n",
       "      <td>NaN</td>\n",
       "      <td>NaN</td>\n",
       "      <td>NaN</td>\n",
       "      <td>NaN</td>\n",
       "      <td>NaN</td>\n",
       "      <td>NaN</td>\n",
       "      <td>NaN</td>\n",
       "      <td>NaN</td>\n",
       "      <td>NaN</td>\n",
       "      <td>NaN</td>\n",
       "      <td>NaN</td>\n",
       "      <td>NaN</td>\n",
       "      <td>NaN</td>\n",
       "      <td>Uncertain</td>\n",
       "      <td>2021-04-25</td>\n",
       "      <td>NaN</td>\n",
       "      <td>NaN</td>\n",
       "      <td>NaN</td>\n",
       "      <td>NaN</td>\n",
       "      <td>NaN</td>\n",
       "      <td>NaN</td>\n",
       "      <td>NaN</td>\n",
       "      <td>NaN</td>\n",
       "      <td>0</td>\n",
       "    </tr>\n",
       "    <tr>\n",
       "      <th>1</th>\n",
       "      <td>Miami-Dade County, FL</td>\n",
       "      <td>12086</td>\n",
       "      <td>Large central metro</td>\n",
       "      <td>Metropolitan</td>\n",
       "      <td>FL</td>\n",
       "      <td>0.1265</td>\n",
       "      <td>0.0082</td>\n",
       "      <td>3.0</td>\n",
       "      <td>0.0222</td>\n",
       "      <td>0.0200</td>\n",
       "      <td>-0.06</td>\n",
       "      <td>-0.27</td>\n",
       "      <td>0.019506</td>\n",
       "      <td>0.0</td>\n",
       "      <td>0.0</td>\n",
       "      <td>SustainedHotspot</td>\n",
       "      <td>NaN</td>\n",
       "      <td>High</td>\n",
       "      <td>High</td>\n",
       "      <td>0.112</td>\n",
       "      <td>NaN</td>\n",
       "      <td>-0.002</td>\n",
       "      <td>-0.06</td>\n",
       "      <td>NaN</td>\n",
       "      <td>NaN</td>\n",
       "      <td>573.0</td>\n",
       "      <td>9.0</td>\n",
       "      <td>155.0</td>\n",
       "      <td>3.0</td>\n",
       "      <td>0.84</td>\n",
       "      <td>0.09</td>\n",
       "      <td>0.80</td>\n",
       "      <td>0.15</td>\n",
       "      <td>0.28</td>\n",
       "      <td>0.05</td>\n",
       "      <td>-0.02</td>\n",
       "      <td>-0.07</td>\n",
       "      <td>0.01</td>\n",
       "      <td>0.00</td>\n",
       "      <td>0.01</td>\n",
       "      <td>0.01</td>\n",
       "      <td>0.00</td>\n",
       "      <td>0.00</td>\n",
       "      <td>0.956522</td>\n",
       "      <td>0.913043</td>\n",
       "      <td>1.0</td>\n",
       "      <td>0.956522</td>\n",
       "      <td>0.277</td>\n",
       "      <td>0.675</td>\n",
       "      <td>0.181367</td>\n",
       "      <td>0.180398</td>\n",
       "      <td>0.166587</td>\n",
       "      <td>3.07</td>\n",
       "      <td>0.153529</td>\n",
       "      <td>0.694297</td>\n",
       "      <td>0.000819</td>\n",
       "      <td>0.015059</td>\n",
       "      <td>0.8175</td>\n",
       "      <td>0.814390</td>\n",
       "      <td>Uncertain</td>\n",
       "      <td>2021-04-25</td>\n",
       "      <td>NaN</td>\n",
       "      <td>NaN</td>\n",
       "      <td>NaN</td>\n",
       "      <td>NaN</td>\n",
       "      <td>NaN</td>\n",
       "      <td>NaN</td>\n",
       "      <td>NaN</td>\n",
       "      <td>NaN</td>\n",
       "      <td>1</td>\n",
       "    </tr>\n",
       "    <tr>\n",
       "      <th>2</th>\n",
       "      <td>Cook County, IL</td>\n",
       "      <td>17031</td>\n",
       "      <td>Large central metro</td>\n",
       "      <td>Metropolitan</td>\n",
       "      <td>IL</td>\n",
       "      <td>0.4064</td>\n",
       "      <td>0.0155</td>\n",
       "      <td>7.0</td>\n",
       "      <td>0.0263</td>\n",
       "      <td>0.0173</td>\n",
       "      <td>-0.15</td>\n",
       "      <td>-0.13</td>\n",
       "      <td>0.018680</td>\n",
       "      <td>0.0</td>\n",
       "      <td>1.0</td>\n",
       "      <td>SustainedHotspot</td>\n",
       "      <td>NaN</td>\n",
       "      <td>High</td>\n",
       "      <td>High</td>\n",
       "      <td>0.047</td>\n",
       "      <td>1.00</td>\n",
       "      <td>-0.005</td>\n",
       "      <td>-0.01</td>\n",
       "      <td>0.0</td>\n",
       "      <td>0.01</td>\n",
       "      <td>791.0</td>\n",
       "      <td>6.0</td>\n",
       "      <td>1163.0</td>\n",
       "      <td>8.0</td>\n",
       "      <td>0.73</td>\n",
       "      <td>0.07</td>\n",
       "      <td>0.67</td>\n",
       "      <td>0.13</td>\n",
       "      <td>0.28</td>\n",
       "      <td>0.04</td>\n",
       "      <td>-0.07</td>\n",
       "      <td>-0.05</td>\n",
       "      <td>0.00</td>\n",
       "      <td>0.00</td>\n",
       "      <td>-0.01</td>\n",
       "      <td>0.01</td>\n",
       "      <td>0.01</td>\n",
       "      <td>0.01</td>\n",
       "      <td>1.000000</td>\n",
       "      <td>0.942308</td>\n",
       "      <td>1.0</td>\n",
       "      <td>1.000000</td>\n",
       "      <td>0.283</td>\n",
       "      <td>0.591</td>\n",
       "      <td>0.095080</td>\n",
       "      <td>0.151454</td>\n",
       "      <td>0.150717</td>\n",
       "      <td>2.61</td>\n",
       "      <td>0.229940</td>\n",
       "      <td>0.256160</td>\n",
       "      <td>0.001160</td>\n",
       "      <td>0.077317</td>\n",
       "      <td>0.6755</td>\n",
       "      <td>0.733843</td>\n",
       "      <td>Uncertain</td>\n",
       "      <td>2021-04-25</td>\n",
       "      <td>NaN</td>\n",
       "      <td>NaN</td>\n",
       "      <td>NaN</td>\n",
       "      <td>NaN</td>\n",
       "      <td>NaN</td>\n",
       "      <td>NaN</td>\n",
       "      <td>NaN</td>\n",
       "      <td>NaN</td>\n",
       "      <td>2</td>\n",
       "    </tr>\n",
       "    <tr>\n",
       "      <th>3</th>\n",
       "      <td>Wayne County, MI</td>\n",
       "      <td>26163</td>\n",
       "      <td>Large central metro</td>\n",
       "      <td>Metropolitan</td>\n",
       "      <td>MI</td>\n",
       "      <td>0.1752</td>\n",
       "      <td>0.0053</td>\n",
       "      <td>1.0</td>\n",
       "      <td>0.0147</td>\n",
       "      <td>0.0158</td>\n",
       "      <td>-0.30</td>\n",
       "      <td>0.39</td>\n",
       "      <td>0.020818</td>\n",
       "      <td>1.0</td>\n",
       "      <td>1.0</td>\n",
       "      <td>SustainedHotspot</td>\n",
       "      <td>Recent</td>\n",
       "      <td>High</td>\n",
       "      <td>High</td>\n",
       "      <td>0.150</td>\n",
       "      <td>0.98</td>\n",
       "      <td>-0.022</td>\n",
       "      <td>-0.01</td>\n",
       "      <td>0.0</td>\n",
       "      <td>0.00</td>\n",
       "      <td>808.0</td>\n",
       "      <td>19.0</td>\n",
       "      <td>168.0</td>\n",
       "      <td>4.0</td>\n",
       "      <td>0.88</td>\n",
       "      <td>0.22</td>\n",
       "      <td>0.83</td>\n",
       "      <td>0.36</td>\n",
       "      <td>0.40</td>\n",
       "      <td>0.15</td>\n",
       "      <td>-0.10</td>\n",
       "      <td>0.00</td>\n",
       "      <td>0.00</td>\n",
       "      <td>0.01</td>\n",
       "      <td>0.00</td>\n",
       "      <td>0.02</td>\n",
       "      <td>0.04</td>\n",
       "      <td>0.03</td>\n",
       "      <td>1.000000</td>\n",
       "      <td>0.944444</td>\n",
       "      <td>1.0</td>\n",
       "      <td>1.000000</td>\n",
       "      <td>0.239</td>\n",
       "      <td>0.609</td>\n",
       "      <td>0.071540</td>\n",
       "      <td>0.230556</td>\n",
       "      <td>0.158076</td>\n",
       "      <td>2.57</td>\n",
       "      <td>0.382392</td>\n",
       "      <td>0.061424</td>\n",
       "      <td>0.003316</td>\n",
       "      <td>0.035078</td>\n",
       "      <td>0.8723</td>\n",
       "      <td>0.719516</td>\n",
       "      <td>Uncertain</td>\n",
       "      <td>2021-04-25</td>\n",
       "      <td>NaN</td>\n",
       "      <td>NaN</td>\n",
       "      <td>NaN</td>\n",
       "      <td>NaN</td>\n",
       "      <td>NaN</td>\n",
       "      <td>NaN</td>\n",
       "      <td>NaN</td>\n",
       "      <td>NaN</td>\n",
       "      <td>1</td>\n",
       "    </tr>\n",
       "    <tr>\n",
       "      <th>4</th>\n",
       "      <td>Kings County, NY</td>\n",
       "      <td>36047</td>\n",
       "      <td>Large central metro</td>\n",
       "      <td>Metropolitan</td>\n",
       "      <td>NY</td>\n",
       "      <td>0.1316</td>\n",
       "      <td>0.0077</td>\n",
       "      <td>0.0</td>\n",
       "      <td>0.0060</td>\n",
       "      <td>0.0120</td>\n",
       "      <td>-0.17</td>\n",
       "      <td>-0.28</td>\n",
       "      <td>0.013324</td>\n",
       "      <td>0.0</td>\n",
       "      <td>17.0</td>\n",
       "      <td>SustainedHotspot</td>\n",
       "      <td>NaN</td>\n",
       "      <td>High</td>\n",
       "      <td>High</td>\n",
       "      <td>0.043</td>\n",
       "      <td>0.99</td>\n",
       "      <td>-0.005</td>\n",
       "      <td>-0.08</td>\n",
       "      <td>0.0</td>\n",
       "      <td>0.00</td>\n",
       "      <td>351.0</td>\n",
       "      <td>8.0</td>\n",
       "      <td>129.0</td>\n",
       "      <td>3.0</td>\n",
       "      <td>0.71</td>\n",
       "      <td>0.11</td>\n",
       "      <td>0.78</td>\n",
       "      <td>0.21</td>\n",
       "      <td>0.23</td>\n",
       "      <td>0.04</td>\n",
       "      <td>-0.06</td>\n",
       "      <td>-0.27</td>\n",
       "      <td>0.00</td>\n",
       "      <td>-0.02</td>\n",
       "      <td>-0.03</td>\n",
       "      <td>-0.02</td>\n",
       "      <td>-0.01</td>\n",
       "      <td>-0.01</td>\n",
       "      <td>1.000000</td>\n",
       "      <td>0.923077</td>\n",
       "      <td>1.0</td>\n",
       "      <td>1.000000</td>\n",
       "      <td>0.229</td>\n",
       "      <td>0.457</td>\n",
       "      <td>0.082438</td>\n",
       "      <td>0.211454</td>\n",
       "      <td>0.143710</td>\n",
       "      <td>2.69</td>\n",
       "      <td>0.297131</td>\n",
       "      <td>0.188944</td>\n",
       "      <td>0.001781</td>\n",
       "      <td>0.124636</td>\n",
       "      <td>0.8153</td>\n",
       "      <td>0.912448</td>\n",
       "      <td>Uncertain</td>\n",
       "      <td>2021-04-25</td>\n",
       "      <td>NaN</td>\n",
       "      <td>NaN</td>\n",
       "      <td>NaN</td>\n",
       "      <td>NaN</td>\n",
       "      <td>NaN</td>\n",
       "      <td>NaN</td>\n",
       "      <td>NaN</td>\n",
       "      <td>NaN</td>\n",
       "      <td>0</td>\n",
       "    </tr>\n",
       "  </tbody>\n",
       "</table>\n",
       "</div>"
      ],
      "text/plain": [
       "                  County  FIPS code          County type     CBSA type State Abbreviation  Population as a percent of state  Population as a percent of national population  IHE with >5000 full-time enrollment  IHE Full-time enrollment as a percent of the population  Cases as a percent of national total - last 7 days  Cases - % change  Deaths - % change  Cases as a percent of national total - previous 7 days  Rapid rise (last 14 days)  Number of days of downward case trajectory Area of Concern Category Rapid Riser Category Community Transmission Level - last 7 days Community Transmission Level - previous 7 days  Viral (RT-PCR) lab test positivity rate - last 7 days (may be an underestimate due to delayed reporting)  % tests resulted in 3 or fewer days - last 7 days  Viral (RT-PCR) lab test positivity rate - absolute change (may be an underestimate due to delayed reporting)  Total RT-PCR diagnostic tests - % change (may be an underestimate due to delayed reporting)  \\\n",
       "0        Unallocated, MI      26000                  NaN           NaN                 MI                               NaN                                             NaN                                  0.0                                                NaN                                                   0.0602             533.84             160.00                                           0.000104                             NaN                                         NaN                      NaN                  NaN                                        NaN                                            NaN                                              0.032                                                                                                       NaN                                             -0.014                                                                                                         -0.07                                             \n",
       "1  Miami-Dade County, FL      12086  Large central metro  Metropolitan                 FL                            0.1265                                          0.0082                                  3.0                                             0.0222                                                   0.0200              -0.06              -0.27                                           0.019506                             0.0                                         0.0         SustainedHotspot                  NaN                                       High                                           High                                              0.112                                                                                                       NaN                                             -0.002                                                                                                         -0.06                                             \n",
       "2        Cook County, IL      17031  Large central metro  Metropolitan                 IL                            0.4064                                          0.0155                                  7.0                                             0.0263                                                   0.0173              -0.15              -0.13                                           0.018680                             0.0                                         1.0         SustainedHotspot                  NaN                                       High                                           High                                              0.047                                                                                                      1.00                                             -0.005                                                                                                         -0.01                                             \n",
       "3       Wayne County, MI      26163  Large central metro  Metropolitan                 MI                            0.1752                                          0.0053                                  1.0                                             0.0147                                                   0.0158              -0.30               0.39                                           0.020818                             1.0                                         1.0         SustainedHotspot               Recent                                       High                                           High                                              0.150                                                                                                      0.98                                             -0.022                                                                                                         -0.01                                             \n",
       "4       Kings County, NY      36047  Large central metro  Metropolitan                 NY                            0.1316                                          0.0077                                  0.0                                             0.0060                                                   0.0120              -0.17              -0.28                                           0.013324                             0.0                                        17.0         SustainedHotspot                  NaN                                       High                                           High                                              0.043                                                                                                      0.99                                             -0.005                                                                                                         -0.08                                             \n",
       "\n",
       "   Testing latency - absolute change  % tests resulted in 3 or fewer days - absolute change  Confirmed COVID-19 admissions - last 7 days  Confirmed COVID-19 admissions per 100 inpatient beds - last 7 days  Suspected COVID-19 admissions - last 7 days  Suspected COVID-19 admissions per 100 inpatient beds - last 7 days  % inpatient beds occupied  % inpatient beds occupied by COVID-19 patient  % staffed adult ICU beds occupied  % staffed adult ICU beds occupied by COVID-19 patient  % ventilators in use  % ventilators in use by COVID-19 patient  Confirmed COVID-19 admissions per 100 inpatient beds - percent increase  Suspected COVID-19 admissions per 100 inpatient beds - percent increase  % inpatient beds occupied - absolute change  % inpatient beds occupied by COVID-19 patient - absolute change  % staffed adult ICU beds occupied - absolute change  % staffed adult ICU beds occupied by COVID-19 patient - absolute change  % ventilators in use - absolute change  \\\n",
       "0                                NaN                                                NaN                                              NaN                                                NaN                                                           NaN                                                NaN                                         NaN                                            NaN                                NaN                                                NaN                       NaN                                       NaN                                                NaN                                                                      NaN                                                                NaN                                                NaN                                                              NaN                                                  NaN                                                           NaN   \n",
       "1                                NaN                                                NaN                                            573.0                                                9.0                                                         155.0                                                3.0                                        0.84                                           0.09                               0.80                                               0.15                      0.28                                      0.05                                              -0.02                                                                    -0.07                                                               0.01                                               0.00                                                             0.01                                                 0.01                                                          0.00   \n",
       "2                                0.0                                               0.01                                            791.0                                                6.0                                                        1163.0                                                8.0                                        0.73                                           0.07                               0.67                                               0.13                      0.28                                      0.04                                              -0.07                                                                    -0.05                                                               0.00                                               0.00                                                            -0.01                                                 0.01                                                          0.01   \n",
       "3                                0.0                                               0.00                                            808.0                                               19.0                                                         168.0                                                4.0                                        0.88                                           0.22                               0.83                                               0.36                      0.40                                      0.15                                              -0.10                                                                     0.00                                                               0.00                                               0.01                                                             0.00                                                 0.02                                                          0.04   \n",
       "4                                0.0                                               0.00                                            351.0                                                8.0                                                         129.0                                                3.0                                        0.71                                           0.11                               0.78                                               0.21                      0.23                                      0.04                                              -0.06                                                                    -0.27                                                               0.00                                              -0.02                                                            -0.03                                                -0.02                                                         -0.01   \n",
       "\n",
       "   % ventilators in use by COVID-19 patient - absolute change  % hospital CCNs reporting any utilization data at least once - last 7 days  % hospital CCNs reporting all utilization data  at least once - last 7 days  % hospital CCNs ever reporting utilization data  % hospital CCNs reporting COVID-19 admissions at least once - last 7 days  People who are fully vaccinated as % of total population  People who are fully vaccinated as % of population - ages 65+  % Uninsured  % In Poverty  % Over Age 65  Average household size  % Non-Hispanic Black  % Hispanic  % Non-Hispanic Native American / Alaskan Native  % Non-Hispanic Asian  SVI score  CCVI score Forecasted case trajectory   File Date  Viral (RT-PCR) lab test positivity rate - absolute change (may be an underestimate due to delayed reporting).1  Total RT-PCR diagnostic tests - % change (may be an underestimate due to delayed reporting).1  Testing latency - absolute change.1  % tests resulted in 3 or fewer days - absolute change.1  \\\n",
       "0                                                NaN                                                         NaN                                                                         NaN                                                                        NaN                                                NaN                                                                        NaN                                                       NaN                      NaN           NaN            NaN                     NaN                   NaN         NaN                                              NaN                   NaN        NaN         NaN                  Uncertain  2021-04-25                                                NaN                                                                                                             NaN                                                                              NaN                                                NaN         \n",
       "1                                               0.00                                                    0.956522                                                                    0.913043                                                                        1.0                                           0.956522                                                                      0.277                                                     0.675                 0.181367      0.180398       0.166587                    3.07              0.153529    0.694297                                         0.000819              0.015059     0.8175    0.814390                  Uncertain  2021-04-25                                                NaN                                                                                                             NaN                                                                              NaN                                                NaN         \n",
       "2                                               0.01                                                    1.000000                                                                    0.942308                                                                        1.0                                           1.000000                                                                      0.283                                                     0.591                 0.095080      0.151454       0.150717                    2.61              0.229940    0.256160                                         0.001160              0.077317     0.6755    0.733843                  Uncertain  2021-04-25                                                NaN                                                                                                             NaN                                                                              NaN                                                NaN         \n",
       "3                                               0.03                                                    1.000000                                                                    0.944444                                                                        1.0                                           1.000000                                                                      0.239                                                     0.609                 0.071540      0.230556       0.158076                    2.57              0.382392    0.061424                                         0.003316              0.035078     0.8723    0.719516                  Uncertain  2021-04-25                                                NaN                                                                                                             NaN                                                                              NaN                                                NaN         \n",
       "4                                              -0.01                                                    1.000000                                                                    0.923077                                                                        1.0                                           1.000000                                                                      0.229                                                     0.457                 0.082438      0.211454       0.143710                    2.69              0.297131    0.188944                                         0.001781              0.124636     0.8153    0.912448                  Uncertain  2021-04-25                                                NaN                                                                                                             NaN                                                                              NaN                                                NaN         \n",
       "\n",
       "   Viral (RT-PCR) lab test positivity rate - 15-21 days ago (may be an underestimate due to delayed reporting)  % tests resulted in 3 or fewer days - 15-21 days ago  % Native American / Alaskan Native  % Asian  IHE with >5000 full-time enrollment_cat  \n",
       "0                                                NaN                                                                                                          NaN                                    NaN      NaN                                        0  \n",
       "1                                                NaN                                                                                                          NaN                                    NaN      NaN                                        1  \n",
       "2                                                NaN                                                                                                          NaN                                    NaN      NaN                                        2  \n",
       "3                                                NaN                                                                                                          NaN                                    NaN      NaN                                        1  \n",
       "4                                                NaN                                                                                                          NaN                                    NaN      NaN                                        0  "
      ]
     },
     "execution_count": 21,
     "metadata": {},
     "output_type": "execute_result"
    }
   ],
   "source": [
    "reduced_df.head()"
   ]
  },
  {
   "cell_type": "markdown",
   "id": "present-flood",
   "metadata": {},
   "source": [
    "### Changing Rapid Riser Literal to Category and Fill Nulls\n",
    "\n",
    "We start by replacing null with 'Unknown' so we can see how things sum up in value counts"
   ]
  },
  {
   "cell_type": "code",
   "execution_count": 22,
   "id": "featured-timber",
   "metadata": {},
   "outputs": [],
   "source": [
    "reduced_df['Rapid Riser Category'].fillna('Unknown', inplace=True)"
   ]
  },
  {
   "cell_type": "code",
   "execution_count": 23,
   "id": "annoying-calendar",
   "metadata": {},
   "outputs": [
    {
     "data": {
      "text/plain": [
       "Unknown       374878\n",
       "Recent         25231\n",
       "Continuing      4214\n",
       "New             1356\n",
       "Name: Rapid Riser Category, dtype: int64"
      ]
     },
     "execution_count": 23,
     "metadata": {},
     "output_type": "execute_result"
    }
   ],
   "source": [
    "reduced_df['Rapid Riser Category'].value_counts()"
   ]
  },
  {
   "cell_type": "markdown",
   "id": "realistic-music",
   "metadata": {},
   "source": [
    "Above we see that the new column only has a few weeks whereas the recents have a lot more entries.  In terms of sorting the categories, it appears that the counties begin with New, due to the low counts.  Recent would be expected next, with Continuing after that.  That said, there is not a clear separate category to indicate when a County has either stopped rising or never started a rapid rise to begin with.  All that is left are nulls, which appears to cover that unknown area."
   ]
  },
  {
   "cell_type": "code",
   "execution_count": 24,
   "id": "exact-union",
   "metadata": {},
   "outputs": [
    {
     "data": {
      "text/plain": [
       "County               \n",
       "Cascade County, MT       3\n",
       "Albemarle County, VA     3\n",
       "Story County, IA         3\n",
       "Orange County, TX        3\n",
       "Montgomery County, KY    3\n",
       "                        ..\n",
       "Grundy County, IL        1\n",
       "Gunnison County, CO      1\n",
       "Gurabo Municipio, PR     1\n",
       "Hale County, TX          1\n",
       "Zavala County, TX        1\n",
       "Length: 1156, dtype: int64"
      ]
     },
     "execution_count": 24,
     "metadata": {},
     "output_type": "execute_result"
    }
   ],
   "source": [
    "reduced_df[(reduced_df['Rapid Riser Category'] == 'New')][['County']].value_counts()"
   ]
  },
  {
   "cell_type": "markdown",
   "id": "focal-network",
   "metadata": {},
   "source": [
    "Given what was observed, the rapid rise categories are given ordinals in the mapped order."
   ]
  },
  {
   "cell_type": "code",
   "execution_count": 25,
   "id": "romance-messaging",
   "metadata": {},
   "outputs": [],
   "source": [
    "rapid_rise_col_name = 'Rapid Riser Category'\n",
    "# fillna (0) -> this was mapped first to Unknown\n",
    "rapid_rise_col_map = {'Unknown':0, 'New': 1, 'Recent': 2, 'Continuing': 3}\n",
    "reduced_df[f'{rapid_rise_col_name}_cat'] = reduced_df[rapid_rise_col_name].map(rapid_rise_col_map)"
   ]
  },
  {
   "cell_type": "code",
   "execution_count": 26,
   "id": "critical-prophet",
   "metadata": {},
   "outputs": [
    {
     "data": {
      "text/plain": [
       "0         0\n",
       "1         0\n",
       "2         0\n",
       "3         2\n",
       "4         0\n",
       "         ..\n",
       "405674    0\n",
       "405675    0\n",
       "405676    0\n",
       "405677    0\n",
       "405678    0\n",
       "Name: Rapid Riser Category_cat, Length: 405679, dtype: int64"
      ]
     },
     "execution_count": 26,
     "metadata": {},
     "output_type": "execute_result"
    }
   ],
   "source": [
    "reduced_df[f'{rapid_rise_col_name}_cat']"
   ]
  },
  {
   "cell_type": "code",
   "execution_count": 27,
   "id": "expensive-round",
   "metadata": {},
   "outputs": [
    {
     "data": {
      "text/plain": [
       "Uncertain            364626\n",
       "Likely Decreasing     40717\n",
       "Likely Increasing       336\n",
       "Name: Forecasted case trajectory, dtype: int64"
      ]
     },
     "execution_count": 27,
     "metadata": {},
     "output_type": "execute_result"
    }
   ],
   "source": [
    "reduced_df['Forecasted case trajectory'].value_counts()"
   ]
  },
  {
   "cell_type": "code",
   "execution_count": 28,
   "id": "faced-parish",
   "metadata": {},
   "outputs": [
    {
     "data": {
      "text/plain": [
       "1    364626\n",
       "0     40717\n",
       "2       336\n",
       "Name: Forecasted case trajectory_cat, dtype: int64"
      ]
     },
     "execution_count": 28,
     "metadata": {},
     "output_type": "execute_result"
    }
   ],
   "source": [
    "target_col_name = 'Forecasted case trajectory'\n",
    "target_col_map = {'Likely Decreasing':0, 'Uncertain': 1, 'Likely Increasing': 2}\n",
    "reduced_df[f'{target_col_name}_cat'] = reduced_df[target_col_name].map(target_col_map)\n",
    "reduced_df[f'{target_col_name}_cat'].value_counts()"
   ]
  },
  {
   "cell_type": "code",
   "execution_count": 29,
   "id": "passive-canada",
   "metadata": {},
   "outputs": [
    {
     "data": {
      "text/plain": [
       "(405679, 72)"
      ]
     },
     "execution_count": 29,
     "metadata": {},
     "output_type": "execute_result"
    }
   ],
   "source": [
    "reduced_df.shape"
   ]
  },
  {
   "cell_type": "code",
   "execution_count": 30,
   "id": "threaded-reading",
   "metadata": {},
   "outputs": [
    {
     "data": {
      "text/plain": [
       "14722"
      ]
     },
     "execution_count": 30,
     "metadata": {},
     "output_type": "execute_result"
    }
   ],
   "source": [
    "# Cases - % change \tDeaths - % change\n",
    "reduced_df['Cases - % change'].isnull().sum()"
   ]
  },
  {
   "cell_type": "code",
   "execution_count": 31,
   "id": "confidential-wesley",
   "metadata": {},
   "outputs": [],
   "source": [
    "zero_fillna_columns = ['Cases - % change','Deaths - % change']\n",
    "death_change_df = reduced_df[(reduced_df['Cases - % change'].isna())][['Forecasted case trajectory','Deaths - % change']]"
   ]
  },
  {
   "cell_type": "code",
   "execution_count": 32,
   "id": "happy-conservative",
   "metadata": {},
   "outputs": [
    {
     "data": {
      "text/plain": [
       "Uncertain            13012\n",
       "Likely Decreasing       61\n",
       "Likely Increasing        2\n",
       "Name: Forecasted case trajectory, dtype: int64"
      ]
     },
     "execution_count": 32,
     "metadata": {},
     "output_type": "execute_result"
    }
   ],
   "source": [
    "death_change_df[(death_change_df['Deaths - % change'].isna())]['Forecasted case trajectory'].value_counts()"
   ]
  },
  {
   "cell_type": "code",
   "execution_count": 33,
   "id": "upper-irrigation",
   "metadata": {},
   "outputs": [
    {
     "data": {
      "text/plain": [
       "Uncertain            1612\n",
       "Likely Decreasing      35\n",
       "Name: Forecasted case trajectory, dtype: int64"
      ]
     },
     "execution_count": 33,
     "metadata": {},
     "output_type": "execute_result"
    }
   ],
   "source": [
    "death_change_df[(death_change_df['Deaths - % change'].notnull())]['Forecasted case trajectory'].value_counts()"
   ]
  },
  {
   "cell_type": "code",
   "execution_count": 34,
   "id": "concrete-duplicate",
   "metadata": {},
   "outputs": [
    {
     "data": {
      "text/plain": [
       "(405679, 104)"
      ]
     },
     "execution_count": 34,
     "metadata": {},
     "output_type": "execute_result"
    }
   ],
   "source": [
    "counties_df.shape"
   ]
  },
  {
   "cell_type": "code",
   "execution_count": 35,
   "id": "differential-pontiac",
   "metadata": {},
   "outputs": [
    {
     "data": {
      "text/plain": [
       "72153"
      ]
     },
     "execution_count": 35,
     "metadata": {},
     "output_type": "execute_result"
    }
   ],
   "source": [
    "reduced_df['FIPS code'].max()"
   ]
  },
  {
   "cell_type": "code",
   "execution_count": 36,
   "id": "careful-request",
   "metadata": {},
   "outputs": [],
   "source": [
    "def new_key(row):\n",
    "    part_1 = str(row['FIPS code'])\n",
    "    part_1 = f'{part_1.zfill(5)}'\n",
    "    part_2 = str(row['File Date'])\n",
    "    return f'{part_1}-{part_2:6}'\n",
    "\n",
    "\n"
   ]
  },
  {
   "cell_type": "code",
   "execution_count": 37,
   "id": "handled-cholesterol",
   "metadata": {},
   "outputs": [
    {
     "data": {
      "text/plain": [
       "Index(['ModerateBurden', 'SustainedHotspot', 'ModerateBurdenResolving', 'LowBurden', 'Hotspot', 'EmergingHotspot', 'HighBurdenResolving'], dtype='object')"
      ]
     },
     "execution_count": 37,
     "metadata": {},
     "output_type": "execute_result"
    }
   ],
   "source": [
    "reduced_df['Area of Concern Category'].value_counts().index"
   ]
  },
  {
   "cell_type": "code",
   "execution_count": 38,
   "id": "oriental-nebraska",
   "metadata": {},
   "outputs": [
    {
     "data": {
      "text/plain": [
       "1    364626\n",
       "0     40717\n",
       "2       336\n",
       "Name: Forecasted case trajectory_cat, dtype: int64"
      ]
     },
     "execution_count": 38,
     "metadata": {},
     "output_type": "execute_result"
    }
   ],
   "source": [
    "reduced_df['Forecasted case trajectory_cat'].value_counts()"
   ]
  },
  {
   "cell_type": "code",
   "execution_count": 39,
   "id": "norman-needle",
   "metadata": {},
   "outputs": [
    {
     "data": {
      "text/plain": [
       "1    0.898804\n",
       "0    0.100368\n",
       "2    0.000828\n",
       "Name: Forecasted case trajectory_cat, dtype: float64"
      ]
     },
     "execution_count": 39,
     "metadata": {},
     "output_type": "execute_result"
    }
   ],
   "source": [
    "reduced_df['Forecasted case trajectory_cat'].value_counts(normalize=True)"
   ]
  },
  {
   "cell_type": "code",
   "execution_count": 40,
   "id": "incredible-details",
   "metadata": {},
   "outputs": [
    {
     "data": {
      "text/plain": [
       "Uncertain            9334\n",
       "Likely Decreasing    1088\n",
       "Name: Forecasted case trajectory, dtype: int64"
      ]
     },
     "execution_count": 40,
     "metadata": {},
     "output_type": "execute_result"
    }
   ],
   "source": [
    "reduced_df[(reduced_df['Area of Concern Category']=='EmergingHotspot')]['Forecasted case trajectory'].value_counts()"
   ]
  },
  {
   "cell_type": "code",
   "execution_count": null,
   "id": "published-murder",
   "metadata": {},
   "outputs": [],
   "source": []
  },
  {
   "cell_type": "code",
   "execution_count": 41,
   "id": "documented-antibody",
   "metadata": {},
   "outputs": [],
   "source": [
    "col_name = 'Area of Concern Category'\n",
    "col_map = {'ModerateBurdenResolving':0, 'HighBurdenResolving':1, 'SustainedHotspot':2, 'HotSpot':3, 'LowBurden':4, 'EmergingHotspot':5 }\n",
    "reduced_df[f'{col_name}_cat'] = reduced_df[col_name].map(col_map)"
   ]
  },
  {
   "cell_type": "code",
   "execution_count": 42,
   "id": "greek-family",
   "metadata": {},
   "outputs": [
    {
     "data": {
      "text/plain": [
       "16071"
      ]
     },
     "execution_count": 42,
     "metadata": {},
     "output_type": "execute_result"
    }
   ],
   "source": [
    "reduced_df['Area of Concern Category'].isna().sum()"
   ]
  },
  {
   "cell_type": "code",
   "execution_count": 43,
   "id": "diagnostic-passenger",
   "metadata": {},
   "outputs": [],
   "source": [
    "new_reduced_df = reduced_df.copy()"
   ]
  },
  {
   "cell_type": "code",
   "execution_count": 44,
   "id": "unknown-medicine",
   "metadata": {},
   "outputs": [],
   "source": [
    "new_reduced_df['Area of Concern Category'].fillna('Unknown', inplace=True)"
   ]
  },
  {
   "cell_type": "code",
   "execution_count": 45,
   "id": "mysterious-destiny",
   "metadata": {},
   "outputs": [],
   "source": [
    "zero_fillna_columns = ['Cases - % change','Deaths - % change', 'Rapid rise (last 14 days)',\n",
    "                       'Number of days of downward case trajectory']"
   ]
  },
  {
   "cell_type": "code",
   "execution_count": 46,
   "id": "dutch-function",
   "metadata": {},
   "outputs": [],
   "source": [
    "reduced_df['Community Transmission Level - last 7 days'].fillna('Unknown', inplace=True)"
   ]
  },
  {
   "cell_type": "code",
   "execution_count": 47,
   "id": "offshore-bankruptcy",
   "metadata": {},
   "outputs": [],
   "source": [
    "#Community Transmission Level - last 7 days \tCommunity Transmission Level - previous 7 days\n",
    "reduced_df['Community Transmission Level - previous 7 days'].fillna('Unknown', inplace=True)"
   ]
  },
  {
   "cell_type": "code",
   "execution_count": 48,
   "id": "certified-throw",
   "metadata": {},
   "outputs": [],
   "source": [
    "fillna_col_names_string = 'Viral (RT-PCR) lab test positivity rate - last 7 days (may be an underestimate due to delayed reporting) \t% tests resulted in 3 or fewer days - last 7 days \tViral (RT-PCR) lab test positivity rate - absolute change (may be an underestimate due to delayed reporting) \tTotal RT-PCR diagnostic tests - % change (may be an underestimate due to delayed reporting) \tTesting latency - absolute change \t% tests resulted in 3 or fewer days - absolute change \tConfirmed COVID-19 admissions - last 7 days \tConfirmed COVID-19 admissions per 100 inpatient beds - last 7 days \tSuspected COVID-19 admissions - last 7 days \tSuspected COVID-19 admissions per 100 inpatient beds - last 7 days \t% inpatient beds occupied \t% inpatient beds occupied by COVID-19 patient \t% staffed adult ICU beds occupied \t% staffed adult ICU beds occupied by COVID-19 patient \t% ventilators in use \t% ventilators in use by COVID-19 patient \tConfirmed COVID-19 admissions per 100 inpatient beds - percent increase \tSuspected COVID-19 admissions per 100 inpatient beds - percent increase \t% inpatient beds occupied - absolute change \t% inpatient beds occupied by COVID-19 patient - absolute change \t% staffed adult ICU beds occupied - absolute change \t% staffed adult ICU beds occupied by COVID-19 patient - absolute change \t% ventilators in use - absolute change \t% ventilators in use by COVID-19 patient - absolute change \t% hospital CCNs reporting any utilization data at least once - last 7 days \t% hospital CCNs ever reporting utilization data \t% hospital CCNs reporting COVID-19 admissions at least once - last 7 days \tPeople who are fully vaccinated as % of total population \tPeople who are fully vaccinated as % of population - ages 65+ \t% Uninsured \t% In Poverty \t% Over Age 65 \tAverage household size \t% Non-Hispanic Black \t% Hispanic \t% Non-Hispanic Native American / Alaskan Native \t% Non-Hispanic Asian \tSVI score \tCCVI score \tViral (RT-PCR) lab test positivity rate - absolute change (may be an underestimate due to delayed reporting).1 \tTotal RT-PCR diagnostic tests - % change (may be an underestimate due to delayed reporting).1 \tTesting latency - absolute change.1 \t% tests resulted in 3 or fewer days - absolute change.1 \tViral (RT-PCR) lab test positivity rate - 15-21 days ago (may be an underestimate due to delayed reporting) \t% tests resulted in 3 or fewer days - 15-21 days ago \t% Native American / Alaskan Native \t% Asian'\n",
    "fillna_col_names = fillna_col_names_string.split(' \\t')\n",
    "more_fillna_col_name_string = 'IHE with >5000 full-time enrollment \tIHE Full-time enrollment as a percent of the population \tCases as a percent of national total - last 7 days \tCases - % change \tDeaths - % change \tCases as a percent of national total - previous 7 days \tRapid rise (last 14 days) \tNumber of days of downward case trajectory \t'\n",
    "more_fillna_col_names = more_fillna_col_name_string.split(' \\t')\n",
    "\n",
    "fillna_col_names.extend(more_fillna_col_names)\n",
    "fillna_col_names.remove('')\n",
    "new_reduced_df = reduced_df.copy()\n",
    "new_reduced_df[fillna_col_names] = reduced_df[fillna_col_names].fillna(0)\n"
   ]
  },
  {
   "cell_type": "code",
   "execution_count": 49,
   "id": "raising-exercise",
   "metadata": {},
   "outputs": [],
   "source": [
    "new_reduced_df['County type'].fillna('Unknown', inplace=True)"
   ]
  },
  {
   "cell_type": "code",
   "execution_count": 50,
   "id": "forty-dynamics",
   "metadata": {},
   "outputs": [],
   "source": [
    "new_reduced_df['CBSA type'].fillna('Unknown', inplace=True)"
   ]
  },
  {
   "cell_type": "code",
   "execution_count": 51,
   "id": "liquid-catch",
   "metadata": {},
   "outputs": [
    {
     "data": {
      "text/html": [
       "<div>\n",
       "<style scoped>\n",
       "    .dataframe tbody tr th:only-of-type {\n",
       "        vertical-align: middle;\n",
       "    }\n",
       "\n",
       "    .dataframe tbody tr th {\n",
       "        vertical-align: top;\n",
       "    }\n",
       "\n",
       "    .dataframe thead th {\n",
       "        text-align: right;\n",
       "    }\n",
       "</style>\n",
       "<table border=\"1\" class=\"dataframe\">\n",
       "  <thead>\n",
       "    <tr style=\"text-align: right;\">\n",
       "      <th></th>\n",
       "      <th>County</th>\n",
       "      <th>FIPS code</th>\n",
       "      <th>County type</th>\n",
       "      <th>CBSA type</th>\n",
       "      <th>State Abbreviation</th>\n",
       "      <th>Population as a percent of state</th>\n",
       "      <th>Population as a percent of national population</th>\n",
       "      <th>IHE with &gt;5000 full-time enrollment</th>\n",
       "      <th>IHE Full-time enrollment as a percent of the population</th>\n",
       "      <th>Cases as a percent of national total - last 7 days</th>\n",
       "      <th>Cases - % change</th>\n",
       "      <th>Deaths - % change</th>\n",
       "      <th>Cases as a percent of national total - previous 7 days</th>\n",
       "      <th>Rapid rise (last 14 days)</th>\n",
       "      <th>Number of days of downward case trajectory</th>\n",
       "      <th>Area of Concern Category</th>\n",
       "      <th>Rapid Riser Category</th>\n",
       "      <th>Community Transmission Level - last 7 days</th>\n",
       "      <th>Community Transmission Level - previous 7 days</th>\n",
       "      <th>Viral (RT-PCR) lab test positivity rate - last 7 days (may be an underestimate due to delayed reporting)</th>\n",
       "      <th>% tests resulted in 3 or fewer days - last 7 days</th>\n",
       "      <th>Viral (RT-PCR) lab test positivity rate - absolute change (may be an underestimate due to delayed reporting)</th>\n",
       "      <th>Total RT-PCR diagnostic tests - % change (may be an underestimate due to delayed reporting)</th>\n",
       "      <th>Testing latency - absolute change</th>\n",
       "      <th>% tests resulted in 3 or fewer days - absolute change</th>\n",
       "      <th>Confirmed COVID-19 admissions - last 7 days</th>\n",
       "      <th>Confirmed COVID-19 admissions per 100 inpatient beds - last 7 days</th>\n",
       "      <th>Suspected COVID-19 admissions - last 7 days</th>\n",
       "      <th>Suspected COVID-19 admissions per 100 inpatient beds - last 7 days</th>\n",
       "      <th>% inpatient beds occupied</th>\n",
       "      <th>% inpatient beds occupied by COVID-19 patient</th>\n",
       "      <th>% staffed adult ICU beds occupied</th>\n",
       "      <th>% staffed adult ICU beds occupied by COVID-19 patient</th>\n",
       "      <th>% ventilators in use</th>\n",
       "      <th>% ventilators in use by COVID-19 patient</th>\n",
       "      <th>Confirmed COVID-19 admissions per 100 inpatient beds - percent increase</th>\n",
       "      <th>Suspected COVID-19 admissions per 100 inpatient beds - percent increase</th>\n",
       "      <th>% inpatient beds occupied - absolute change</th>\n",
       "      <th>% inpatient beds occupied by COVID-19 patient - absolute change</th>\n",
       "      <th>% staffed adult ICU beds occupied - absolute change</th>\n",
       "      <th>% staffed adult ICU beds occupied by COVID-19 patient - absolute change</th>\n",
       "      <th>% ventilators in use - absolute change</th>\n",
       "      <th>% ventilators in use by COVID-19 patient - absolute change</th>\n",
       "      <th>% hospital CCNs reporting any utilization data at least once - last 7 days</th>\n",
       "      <th>% hospital CCNs reporting all utilization data  at least once - last 7 days</th>\n",
       "      <th>% hospital CCNs ever reporting utilization data</th>\n",
       "      <th>% hospital CCNs reporting COVID-19 admissions at least once - last 7 days</th>\n",
       "      <th>People who are fully vaccinated as % of total population</th>\n",
       "      <th>People who are fully vaccinated as % of population - ages 65+</th>\n",
       "      <th>% Uninsured</th>\n",
       "      <th>% In Poverty</th>\n",
       "      <th>% Over Age 65</th>\n",
       "      <th>Average household size</th>\n",
       "      <th>% Non-Hispanic Black</th>\n",
       "      <th>% Hispanic</th>\n",
       "      <th>% Non-Hispanic Native American / Alaskan Native</th>\n",
       "      <th>% Non-Hispanic Asian</th>\n",
       "      <th>SVI score</th>\n",
       "      <th>CCVI score</th>\n",
       "      <th>Forecasted case trajectory</th>\n",
       "      <th>File Date</th>\n",
       "      <th>Viral (RT-PCR) lab test positivity rate - absolute change (may be an underestimate due to delayed reporting).1</th>\n",
       "      <th>Total RT-PCR diagnostic tests - % change (may be an underestimate due to delayed reporting).1</th>\n",
       "      <th>Testing latency - absolute change.1</th>\n",
       "      <th>% tests resulted in 3 or fewer days - absolute change.1</th>\n",
       "      <th>Viral (RT-PCR) lab test positivity rate - 15-21 days ago (may be an underestimate due to delayed reporting)</th>\n",
       "      <th>% tests resulted in 3 or fewer days - 15-21 days ago</th>\n",
       "      <th>% Native American / Alaskan Native</th>\n",
       "      <th>% Asian</th>\n",
       "      <th>IHE with &gt;5000 full-time enrollment_cat</th>\n",
       "      <th>Rapid Riser Category_cat</th>\n",
       "      <th>Forecasted case trajectory_cat</th>\n",
       "      <th>Area of Concern Category_cat</th>\n",
       "    </tr>\n",
       "  </thead>\n",
       "  <tbody>\n",
       "    <tr>\n",
       "      <th>0</th>\n",
       "      <td>Unallocated, MI</td>\n",
       "      <td>26000</td>\n",
       "      <td>Unknown</td>\n",
       "      <td>Unknown</td>\n",
       "      <td>MI</td>\n",
       "      <td>NaN</td>\n",
       "      <td>NaN</td>\n",
       "      <td>0.0</td>\n",
       "      <td>0.0000</td>\n",
       "      <td>0.0602</td>\n",
       "      <td>533.84</td>\n",
       "      <td>160.00</td>\n",
       "      <td>0.000104</td>\n",
       "      <td>0.0</td>\n",
       "      <td>0.0</td>\n",
       "      <td>NaN</td>\n",
       "      <td>Unknown</td>\n",
       "      <td>Unknown</td>\n",
       "      <td>Unknown</td>\n",
       "      <td>0.032</td>\n",
       "      <td>0.00</td>\n",
       "      <td>-0.014</td>\n",
       "      <td>-0.07</td>\n",
       "      <td>0.0</td>\n",
       "      <td>0.00</td>\n",
       "      <td>0.0</td>\n",
       "      <td>0.0</td>\n",
       "      <td>0.0</td>\n",
       "      <td>0.0</td>\n",
       "      <td>0.00</td>\n",
       "      <td>0.00</td>\n",
       "      <td>0.00</td>\n",
       "      <td>0.00</td>\n",
       "      <td>0.00</td>\n",
       "      <td>0.00</td>\n",
       "      <td>0.00</td>\n",
       "      <td>0.00</td>\n",
       "      <td>0.00</td>\n",
       "      <td>0.00</td>\n",
       "      <td>0.00</td>\n",
       "      <td>0.00</td>\n",
       "      <td>0.00</td>\n",
       "      <td>0.00</td>\n",
       "      <td>0.000000</td>\n",
       "      <td>NaN</td>\n",
       "      <td>0.0</td>\n",
       "      <td>0.000000</td>\n",
       "      <td>0.000</td>\n",
       "      <td>0.000</td>\n",
       "      <td>0.000000</td>\n",
       "      <td>0.000000</td>\n",
       "      <td>0.000000</td>\n",
       "      <td>0.00</td>\n",
       "      <td>0.000000</td>\n",
       "      <td>0.000000</td>\n",
       "      <td>0.000000</td>\n",
       "      <td>0.000000</td>\n",
       "      <td>0.0000</td>\n",
       "      <td>0.000000</td>\n",
       "      <td>Uncertain</td>\n",
       "      <td>2021-04-25</td>\n",
       "      <td>0.0</td>\n",
       "      <td>0.0</td>\n",
       "      <td>0.0</td>\n",
       "      <td>0.0</td>\n",
       "      <td>0.0</td>\n",
       "      <td>0.0</td>\n",
       "      <td>0.0</td>\n",
       "      <td>0.0</td>\n",
       "      <td>0</td>\n",
       "      <td>0</td>\n",
       "      <td>1</td>\n",
       "      <td>NaN</td>\n",
       "    </tr>\n",
       "    <tr>\n",
       "      <th>1</th>\n",
       "      <td>Miami-Dade County, FL</td>\n",
       "      <td>12086</td>\n",
       "      <td>Large central metro</td>\n",
       "      <td>Metropolitan</td>\n",
       "      <td>FL</td>\n",
       "      <td>0.1265</td>\n",
       "      <td>0.0082</td>\n",
       "      <td>3.0</td>\n",
       "      <td>0.0222</td>\n",
       "      <td>0.0200</td>\n",
       "      <td>-0.06</td>\n",
       "      <td>-0.27</td>\n",
       "      <td>0.019506</td>\n",
       "      <td>0.0</td>\n",
       "      <td>0.0</td>\n",
       "      <td>SustainedHotspot</td>\n",
       "      <td>Unknown</td>\n",
       "      <td>High</td>\n",
       "      <td>High</td>\n",
       "      <td>0.112</td>\n",
       "      <td>0.00</td>\n",
       "      <td>-0.002</td>\n",
       "      <td>-0.06</td>\n",
       "      <td>0.0</td>\n",
       "      <td>0.00</td>\n",
       "      <td>573.0</td>\n",
       "      <td>9.0</td>\n",
       "      <td>155.0</td>\n",
       "      <td>3.0</td>\n",
       "      <td>0.84</td>\n",
       "      <td>0.09</td>\n",
       "      <td>0.80</td>\n",
       "      <td>0.15</td>\n",
       "      <td>0.28</td>\n",
       "      <td>0.05</td>\n",
       "      <td>-0.02</td>\n",
       "      <td>-0.07</td>\n",
       "      <td>0.01</td>\n",
       "      <td>0.00</td>\n",
       "      <td>0.01</td>\n",
       "      <td>0.01</td>\n",
       "      <td>0.00</td>\n",
       "      <td>0.00</td>\n",
       "      <td>0.956522</td>\n",
       "      <td>0.913043</td>\n",
       "      <td>1.0</td>\n",
       "      <td>0.956522</td>\n",
       "      <td>0.277</td>\n",
       "      <td>0.675</td>\n",
       "      <td>0.181367</td>\n",
       "      <td>0.180398</td>\n",
       "      <td>0.166587</td>\n",
       "      <td>3.07</td>\n",
       "      <td>0.153529</td>\n",
       "      <td>0.694297</td>\n",
       "      <td>0.000819</td>\n",
       "      <td>0.015059</td>\n",
       "      <td>0.8175</td>\n",
       "      <td>0.814390</td>\n",
       "      <td>Uncertain</td>\n",
       "      <td>2021-04-25</td>\n",
       "      <td>0.0</td>\n",
       "      <td>0.0</td>\n",
       "      <td>0.0</td>\n",
       "      <td>0.0</td>\n",
       "      <td>0.0</td>\n",
       "      <td>0.0</td>\n",
       "      <td>0.0</td>\n",
       "      <td>0.0</td>\n",
       "      <td>1</td>\n",
       "      <td>0</td>\n",
       "      <td>1</td>\n",
       "      <td>2.0</td>\n",
       "    </tr>\n",
       "    <tr>\n",
       "      <th>2</th>\n",
       "      <td>Cook County, IL</td>\n",
       "      <td>17031</td>\n",
       "      <td>Large central metro</td>\n",
       "      <td>Metropolitan</td>\n",
       "      <td>IL</td>\n",
       "      <td>0.4064</td>\n",
       "      <td>0.0155</td>\n",
       "      <td>7.0</td>\n",
       "      <td>0.0263</td>\n",
       "      <td>0.0173</td>\n",
       "      <td>-0.15</td>\n",
       "      <td>-0.13</td>\n",
       "      <td>0.018680</td>\n",
       "      <td>0.0</td>\n",
       "      <td>1.0</td>\n",
       "      <td>SustainedHotspot</td>\n",
       "      <td>Unknown</td>\n",
       "      <td>High</td>\n",
       "      <td>High</td>\n",
       "      <td>0.047</td>\n",
       "      <td>1.00</td>\n",
       "      <td>-0.005</td>\n",
       "      <td>-0.01</td>\n",
       "      <td>0.0</td>\n",
       "      <td>0.01</td>\n",
       "      <td>791.0</td>\n",
       "      <td>6.0</td>\n",
       "      <td>1163.0</td>\n",
       "      <td>8.0</td>\n",
       "      <td>0.73</td>\n",
       "      <td>0.07</td>\n",
       "      <td>0.67</td>\n",
       "      <td>0.13</td>\n",
       "      <td>0.28</td>\n",
       "      <td>0.04</td>\n",
       "      <td>-0.07</td>\n",
       "      <td>-0.05</td>\n",
       "      <td>0.00</td>\n",
       "      <td>0.00</td>\n",
       "      <td>-0.01</td>\n",
       "      <td>0.01</td>\n",
       "      <td>0.01</td>\n",
       "      <td>0.01</td>\n",
       "      <td>1.000000</td>\n",
       "      <td>0.942308</td>\n",
       "      <td>1.0</td>\n",
       "      <td>1.000000</td>\n",
       "      <td>0.283</td>\n",
       "      <td>0.591</td>\n",
       "      <td>0.095080</td>\n",
       "      <td>0.151454</td>\n",
       "      <td>0.150717</td>\n",
       "      <td>2.61</td>\n",
       "      <td>0.229940</td>\n",
       "      <td>0.256160</td>\n",
       "      <td>0.001160</td>\n",
       "      <td>0.077317</td>\n",
       "      <td>0.6755</td>\n",
       "      <td>0.733843</td>\n",
       "      <td>Uncertain</td>\n",
       "      <td>2021-04-25</td>\n",
       "      <td>0.0</td>\n",
       "      <td>0.0</td>\n",
       "      <td>0.0</td>\n",
       "      <td>0.0</td>\n",
       "      <td>0.0</td>\n",
       "      <td>0.0</td>\n",
       "      <td>0.0</td>\n",
       "      <td>0.0</td>\n",
       "      <td>2</td>\n",
       "      <td>0</td>\n",
       "      <td>1</td>\n",
       "      <td>2.0</td>\n",
       "    </tr>\n",
       "    <tr>\n",
       "      <th>3</th>\n",
       "      <td>Wayne County, MI</td>\n",
       "      <td>26163</td>\n",
       "      <td>Large central metro</td>\n",
       "      <td>Metropolitan</td>\n",
       "      <td>MI</td>\n",
       "      <td>0.1752</td>\n",
       "      <td>0.0053</td>\n",
       "      <td>1.0</td>\n",
       "      <td>0.0147</td>\n",
       "      <td>0.0158</td>\n",
       "      <td>-0.30</td>\n",
       "      <td>0.39</td>\n",
       "      <td>0.020818</td>\n",
       "      <td>1.0</td>\n",
       "      <td>1.0</td>\n",
       "      <td>SustainedHotspot</td>\n",
       "      <td>Recent</td>\n",
       "      <td>High</td>\n",
       "      <td>High</td>\n",
       "      <td>0.150</td>\n",
       "      <td>0.98</td>\n",
       "      <td>-0.022</td>\n",
       "      <td>-0.01</td>\n",
       "      <td>0.0</td>\n",
       "      <td>0.00</td>\n",
       "      <td>808.0</td>\n",
       "      <td>19.0</td>\n",
       "      <td>168.0</td>\n",
       "      <td>4.0</td>\n",
       "      <td>0.88</td>\n",
       "      <td>0.22</td>\n",
       "      <td>0.83</td>\n",
       "      <td>0.36</td>\n",
       "      <td>0.40</td>\n",
       "      <td>0.15</td>\n",
       "      <td>-0.10</td>\n",
       "      <td>0.00</td>\n",
       "      <td>0.00</td>\n",
       "      <td>0.01</td>\n",
       "      <td>0.00</td>\n",
       "      <td>0.02</td>\n",
       "      <td>0.04</td>\n",
       "      <td>0.03</td>\n",
       "      <td>1.000000</td>\n",
       "      <td>0.944444</td>\n",
       "      <td>1.0</td>\n",
       "      <td>1.000000</td>\n",
       "      <td>0.239</td>\n",
       "      <td>0.609</td>\n",
       "      <td>0.071540</td>\n",
       "      <td>0.230556</td>\n",
       "      <td>0.158076</td>\n",
       "      <td>2.57</td>\n",
       "      <td>0.382392</td>\n",
       "      <td>0.061424</td>\n",
       "      <td>0.003316</td>\n",
       "      <td>0.035078</td>\n",
       "      <td>0.8723</td>\n",
       "      <td>0.719516</td>\n",
       "      <td>Uncertain</td>\n",
       "      <td>2021-04-25</td>\n",
       "      <td>0.0</td>\n",
       "      <td>0.0</td>\n",
       "      <td>0.0</td>\n",
       "      <td>0.0</td>\n",
       "      <td>0.0</td>\n",
       "      <td>0.0</td>\n",
       "      <td>0.0</td>\n",
       "      <td>0.0</td>\n",
       "      <td>1</td>\n",
       "      <td>2</td>\n",
       "      <td>1</td>\n",
       "      <td>2.0</td>\n",
       "    </tr>\n",
       "    <tr>\n",
       "      <th>4</th>\n",
       "      <td>Kings County, NY</td>\n",
       "      <td>36047</td>\n",
       "      <td>Large central metro</td>\n",
       "      <td>Metropolitan</td>\n",
       "      <td>NY</td>\n",
       "      <td>0.1316</td>\n",
       "      <td>0.0077</td>\n",
       "      <td>0.0</td>\n",
       "      <td>0.0060</td>\n",
       "      <td>0.0120</td>\n",
       "      <td>-0.17</td>\n",
       "      <td>-0.28</td>\n",
       "      <td>0.013324</td>\n",
       "      <td>0.0</td>\n",
       "      <td>17.0</td>\n",
       "      <td>SustainedHotspot</td>\n",
       "      <td>Unknown</td>\n",
       "      <td>High</td>\n",
       "      <td>High</td>\n",
       "      <td>0.043</td>\n",
       "      <td>0.99</td>\n",
       "      <td>-0.005</td>\n",
       "      <td>-0.08</td>\n",
       "      <td>0.0</td>\n",
       "      <td>0.00</td>\n",
       "      <td>351.0</td>\n",
       "      <td>8.0</td>\n",
       "      <td>129.0</td>\n",
       "      <td>3.0</td>\n",
       "      <td>0.71</td>\n",
       "      <td>0.11</td>\n",
       "      <td>0.78</td>\n",
       "      <td>0.21</td>\n",
       "      <td>0.23</td>\n",
       "      <td>0.04</td>\n",
       "      <td>-0.06</td>\n",
       "      <td>-0.27</td>\n",
       "      <td>0.00</td>\n",
       "      <td>-0.02</td>\n",
       "      <td>-0.03</td>\n",
       "      <td>-0.02</td>\n",
       "      <td>-0.01</td>\n",
       "      <td>-0.01</td>\n",
       "      <td>1.000000</td>\n",
       "      <td>0.923077</td>\n",
       "      <td>1.0</td>\n",
       "      <td>1.000000</td>\n",
       "      <td>0.229</td>\n",
       "      <td>0.457</td>\n",
       "      <td>0.082438</td>\n",
       "      <td>0.211454</td>\n",
       "      <td>0.143710</td>\n",
       "      <td>2.69</td>\n",
       "      <td>0.297131</td>\n",
       "      <td>0.188944</td>\n",
       "      <td>0.001781</td>\n",
       "      <td>0.124636</td>\n",
       "      <td>0.8153</td>\n",
       "      <td>0.912448</td>\n",
       "      <td>Uncertain</td>\n",
       "      <td>2021-04-25</td>\n",
       "      <td>0.0</td>\n",
       "      <td>0.0</td>\n",
       "      <td>0.0</td>\n",
       "      <td>0.0</td>\n",
       "      <td>0.0</td>\n",
       "      <td>0.0</td>\n",
       "      <td>0.0</td>\n",
       "      <td>0.0</td>\n",
       "      <td>0</td>\n",
       "      <td>0</td>\n",
       "      <td>1</td>\n",
       "      <td>2.0</td>\n",
       "    </tr>\n",
       "  </tbody>\n",
       "</table>\n",
       "</div>"
      ],
      "text/plain": [
       "                  County  FIPS code          County type     CBSA type State Abbreviation  Population as a percent of state  Population as a percent of national population  IHE with >5000 full-time enrollment  IHE Full-time enrollment as a percent of the population  Cases as a percent of national total - last 7 days  Cases - % change  Deaths - % change  Cases as a percent of national total - previous 7 days  Rapid rise (last 14 days)  Number of days of downward case trajectory Area of Concern Category Rapid Riser Category Community Transmission Level - last 7 days Community Transmission Level - previous 7 days  Viral (RT-PCR) lab test positivity rate - last 7 days (may be an underestimate due to delayed reporting)  % tests resulted in 3 or fewer days - last 7 days  Viral (RT-PCR) lab test positivity rate - absolute change (may be an underestimate due to delayed reporting)  Total RT-PCR diagnostic tests - % change (may be an underestimate due to delayed reporting)  \\\n",
       "0        Unallocated, MI      26000              Unknown       Unknown                 MI                               NaN                                             NaN                                  0.0                                             0.0000                                                   0.0602             533.84             160.00                                           0.000104                             0.0                                         0.0                      NaN              Unknown                                    Unknown                                        Unknown                                              0.032                                                                                                      0.00                                             -0.014                                                                                                         -0.07                                             \n",
       "1  Miami-Dade County, FL      12086  Large central metro  Metropolitan                 FL                            0.1265                                          0.0082                                  3.0                                             0.0222                                                   0.0200              -0.06              -0.27                                           0.019506                             0.0                                         0.0         SustainedHotspot              Unknown                                       High                                           High                                              0.112                                                                                                      0.00                                             -0.002                                                                                                         -0.06                                             \n",
       "2        Cook County, IL      17031  Large central metro  Metropolitan                 IL                            0.4064                                          0.0155                                  7.0                                             0.0263                                                   0.0173              -0.15              -0.13                                           0.018680                             0.0                                         1.0         SustainedHotspot              Unknown                                       High                                           High                                              0.047                                                                                                      1.00                                             -0.005                                                                                                         -0.01                                             \n",
       "3       Wayne County, MI      26163  Large central metro  Metropolitan                 MI                            0.1752                                          0.0053                                  1.0                                             0.0147                                                   0.0158              -0.30               0.39                                           0.020818                             1.0                                         1.0         SustainedHotspot               Recent                                       High                                           High                                              0.150                                                                                                      0.98                                             -0.022                                                                                                         -0.01                                             \n",
       "4       Kings County, NY      36047  Large central metro  Metropolitan                 NY                            0.1316                                          0.0077                                  0.0                                             0.0060                                                   0.0120              -0.17              -0.28                                           0.013324                             0.0                                        17.0         SustainedHotspot              Unknown                                       High                                           High                                              0.043                                                                                                      0.99                                             -0.005                                                                                                         -0.08                                             \n",
       "\n",
       "   Testing latency - absolute change  % tests resulted in 3 or fewer days - absolute change  Confirmed COVID-19 admissions - last 7 days  Confirmed COVID-19 admissions per 100 inpatient beds - last 7 days  Suspected COVID-19 admissions - last 7 days  Suspected COVID-19 admissions per 100 inpatient beds - last 7 days  % inpatient beds occupied  % inpatient beds occupied by COVID-19 patient  % staffed adult ICU beds occupied  % staffed adult ICU beds occupied by COVID-19 patient  % ventilators in use  % ventilators in use by COVID-19 patient  Confirmed COVID-19 admissions per 100 inpatient beds - percent increase  Suspected COVID-19 admissions per 100 inpatient beds - percent increase  % inpatient beds occupied - absolute change  % inpatient beds occupied by COVID-19 patient - absolute change  % staffed adult ICU beds occupied - absolute change  % staffed adult ICU beds occupied by COVID-19 patient - absolute change  % ventilators in use - absolute change  \\\n",
       "0                                0.0                                               0.00                                              0.0                                                0.0                                                           0.0                                                0.0                                        0.00                                           0.00                               0.00                                               0.00                      0.00                                      0.00                                               0.00                                                                     0.00                                                               0.00                                               0.00                                                             0.00                                                 0.00                                                          0.00   \n",
       "1                                0.0                                               0.00                                            573.0                                                9.0                                                         155.0                                                3.0                                        0.84                                           0.09                               0.80                                               0.15                      0.28                                      0.05                                              -0.02                                                                    -0.07                                                               0.01                                               0.00                                                             0.01                                                 0.01                                                          0.00   \n",
       "2                                0.0                                               0.01                                            791.0                                                6.0                                                        1163.0                                                8.0                                        0.73                                           0.07                               0.67                                               0.13                      0.28                                      0.04                                              -0.07                                                                    -0.05                                                               0.00                                               0.00                                                            -0.01                                                 0.01                                                          0.01   \n",
       "3                                0.0                                               0.00                                            808.0                                               19.0                                                         168.0                                                4.0                                        0.88                                           0.22                               0.83                                               0.36                      0.40                                      0.15                                              -0.10                                                                     0.00                                                               0.00                                               0.01                                                             0.00                                                 0.02                                                          0.04   \n",
       "4                                0.0                                               0.00                                            351.0                                                8.0                                                         129.0                                                3.0                                        0.71                                           0.11                               0.78                                               0.21                      0.23                                      0.04                                              -0.06                                                                    -0.27                                                               0.00                                              -0.02                                                            -0.03                                                -0.02                                                         -0.01   \n",
       "\n",
       "   % ventilators in use by COVID-19 patient - absolute change  % hospital CCNs reporting any utilization data at least once - last 7 days  % hospital CCNs reporting all utilization data  at least once - last 7 days  % hospital CCNs ever reporting utilization data  % hospital CCNs reporting COVID-19 admissions at least once - last 7 days  People who are fully vaccinated as % of total population  People who are fully vaccinated as % of population - ages 65+  % Uninsured  % In Poverty  % Over Age 65  Average household size  % Non-Hispanic Black  % Hispanic  % Non-Hispanic Native American / Alaskan Native  % Non-Hispanic Asian  SVI score  CCVI score Forecasted case trajectory   File Date  Viral (RT-PCR) lab test positivity rate - absolute change (may be an underestimate due to delayed reporting).1  Total RT-PCR diagnostic tests - % change (may be an underestimate due to delayed reporting).1  Testing latency - absolute change.1  % tests resulted in 3 or fewer days - absolute change.1  \\\n",
       "0                                               0.00                                                    0.000000                                                                         NaN                                                                        0.0                                           0.000000                                                                      0.000                                                     0.000                 0.000000      0.000000       0.000000                    0.00              0.000000    0.000000                                         0.000000              0.000000     0.0000    0.000000                  Uncertain  2021-04-25                                                0.0                                                                                                             0.0                                                                              0.0                                                0.0         \n",
       "1                                               0.00                                                    0.956522                                                                    0.913043                                                                        1.0                                           0.956522                                                                      0.277                                                     0.675                 0.181367      0.180398       0.166587                    3.07              0.153529    0.694297                                         0.000819              0.015059     0.8175    0.814390                  Uncertain  2021-04-25                                                0.0                                                                                                             0.0                                                                              0.0                                                0.0         \n",
       "2                                               0.01                                                    1.000000                                                                    0.942308                                                                        1.0                                           1.000000                                                                      0.283                                                     0.591                 0.095080      0.151454       0.150717                    2.61              0.229940    0.256160                                         0.001160              0.077317     0.6755    0.733843                  Uncertain  2021-04-25                                                0.0                                                                                                             0.0                                                                              0.0                                                0.0         \n",
       "3                                               0.03                                                    1.000000                                                                    0.944444                                                                        1.0                                           1.000000                                                                      0.239                                                     0.609                 0.071540      0.230556       0.158076                    2.57              0.382392    0.061424                                         0.003316              0.035078     0.8723    0.719516                  Uncertain  2021-04-25                                                0.0                                                                                                             0.0                                                                              0.0                                                0.0         \n",
       "4                                              -0.01                                                    1.000000                                                                    0.923077                                                                        1.0                                           1.000000                                                                      0.229                                                     0.457                 0.082438      0.211454       0.143710                    2.69              0.297131    0.188944                                         0.001781              0.124636     0.8153    0.912448                  Uncertain  2021-04-25                                                0.0                                                                                                             0.0                                                                              0.0                                                0.0         \n",
       "\n",
       "   Viral (RT-PCR) lab test positivity rate - 15-21 days ago (may be an underestimate due to delayed reporting)  % tests resulted in 3 or fewer days - 15-21 days ago  % Native American / Alaskan Native  % Asian  IHE with >5000 full-time enrollment_cat  Rapid Riser Category_cat  Forecasted case trajectory_cat  Area of Concern Category_cat  \n",
       "0                                                0.0                                                                                                          0.0                                    0.0      0.0                                        0                         0                               1                           NaN  \n",
       "1                                                0.0                                                                                                          0.0                                    0.0      0.0                                        1                         0                               1                           2.0  \n",
       "2                                                0.0                                                                                                          0.0                                    0.0      0.0                                        2                         0                               1                           2.0  \n",
       "3                                                0.0                                                                                                          0.0                                    0.0      0.0                                        1                         2                               1                           2.0  \n",
       "4                                                0.0                                                                                                          0.0                                    0.0      0.0                                        0                         0                               1                           2.0  "
      ]
     },
     "execution_count": 51,
     "metadata": {},
     "output_type": "execute_result"
    }
   ],
   "source": [
    "new_reduced_df.head()"
   ]
  },
  {
   "cell_type": "markdown",
   "id": "working-billy",
   "metadata": {},
   "source": [
    "Here we reset the index with a combined string of county id (FIPS code) and the file date.  This will let us do the diffs on selected columns to calculate changes which **should** get us closer to the trajectory.  Note that this would be expected since these are features that would appear to be related to a decrease in transmission"
   ]
  },
  {
   "cell_type": "code",
   "execution_count": 52,
   "id": "annoying-circuit",
   "metadata": {},
   "outputs": [],
   "source": [
    "\n",
    "new_reduced_df['County_File_Date'] = new_reduced_df.apply(new_key, axis=1)\n",
    "new_reduced_df = new_reduced_df.set_index('County_File_Date').sort_index(ascending=False)"
   ]
  },
  {
   "cell_type": "code",
   "execution_count": 53,
   "id": "parallel-joshua",
   "metadata": {},
   "outputs": [
    {
     "data": {
      "text/html": [
       "<div>\n",
       "<style scoped>\n",
       "    .dataframe tbody tr th:only-of-type {\n",
       "        vertical-align: middle;\n",
       "    }\n",
       "\n",
       "    .dataframe tbody tr th {\n",
       "        vertical-align: top;\n",
       "    }\n",
       "\n",
       "    .dataframe thead th {\n",
       "        text-align: right;\n",
       "    }\n",
       "</style>\n",
       "<table border=\"1\" class=\"dataframe\">\n",
       "  <thead>\n",
       "    <tr style=\"text-align: right;\">\n",
       "      <th></th>\n",
       "      <th>County</th>\n",
       "      <th>FIPS code</th>\n",
       "      <th>County type</th>\n",
       "      <th>CBSA type</th>\n",
       "      <th>State Abbreviation</th>\n",
       "      <th>Population as a percent of state</th>\n",
       "      <th>Population as a percent of national population</th>\n",
       "      <th>IHE with &gt;5000 full-time enrollment</th>\n",
       "      <th>IHE Full-time enrollment as a percent of the population</th>\n",
       "      <th>Cases as a percent of national total - last 7 days</th>\n",
       "      <th>Cases - % change</th>\n",
       "      <th>Deaths - % change</th>\n",
       "      <th>Cases as a percent of national total - previous 7 days</th>\n",
       "      <th>Rapid rise (last 14 days)</th>\n",
       "      <th>Number of days of downward case trajectory</th>\n",
       "      <th>Area of Concern Category</th>\n",
       "      <th>Rapid Riser Category</th>\n",
       "      <th>Community Transmission Level - last 7 days</th>\n",
       "      <th>Community Transmission Level - previous 7 days</th>\n",
       "      <th>Viral (RT-PCR) lab test positivity rate - last 7 days (may be an underestimate due to delayed reporting)</th>\n",
       "      <th>% tests resulted in 3 or fewer days - last 7 days</th>\n",
       "      <th>Viral (RT-PCR) lab test positivity rate - absolute change (may be an underestimate due to delayed reporting)</th>\n",
       "      <th>Total RT-PCR diagnostic tests - % change (may be an underestimate due to delayed reporting)</th>\n",
       "      <th>Testing latency - absolute change</th>\n",
       "      <th>% tests resulted in 3 or fewer days - absolute change</th>\n",
       "      <th>Confirmed COVID-19 admissions - last 7 days</th>\n",
       "      <th>Confirmed COVID-19 admissions per 100 inpatient beds - last 7 days</th>\n",
       "      <th>Suspected COVID-19 admissions - last 7 days</th>\n",
       "      <th>Suspected COVID-19 admissions per 100 inpatient beds - last 7 days</th>\n",
       "      <th>% inpatient beds occupied</th>\n",
       "      <th>% inpatient beds occupied by COVID-19 patient</th>\n",
       "      <th>% staffed adult ICU beds occupied</th>\n",
       "      <th>% staffed adult ICU beds occupied by COVID-19 patient</th>\n",
       "      <th>% ventilators in use</th>\n",
       "      <th>% ventilators in use by COVID-19 patient</th>\n",
       "      <th>Confirmed COVID-19 admissions per 100 inpatient beds - percent increase</th>\n",
       "      <th>Suspected COVID-19 admissions per 100 inpatient beds - percent increase</th>\n",
       "      <th>% inpatient beds occupied - absolute change</th>\n",
       "      <th>% inpatient beds occupied by COVID-19 patient - absolute change</th>\n",
       "      <th>% staffed adult ICU beds occupied - absolute change</th>\n",
       "      <th>% staffed adult ICU beds occupied by COVID-19 patient - absolute change</th>\n",
       "      <th>% ventilators in use - absolute change</th>\n",
       "      <th>% ventilators in use by COVID-19 patient - absolute change</th>\n",
       "      <th>% hospital CCNs reporting any utilization data at least once - last 7 days</th>\n",
       "      <th>% hospital CCNs reporting all utilization data  at least once - last 7 days</th>\n",
       "      <th>% hospital CCNs ever reporting utilization data</th>\n",
       "      <th>% hospital CCNs reporting COVID-19 admissions at least once - last 7 days</th>\n",
       "      <th>People who are fully vaccinated as % of total population</th>\n",
       "      <th>People who are fully vaccinated as % of population - ages 65+</th>\n",
       "      <th>% Uninsured</th>\n",
       "      <th>% In Poverty</th>\n",
       "      <th>% Over Age 65</th>\n",
       "      <th>Average household size</th>\n",
       "      <th>% Non-Hispanic Black</th>\n",
       "      <th>% Hispanic</th>\n",
       "      <th>% Non-Hispanic Native American / Alaskan Native</th>\n",
       "      <th>% Non-Hispanic Asian</th>\n",
       "      <th>SVI score</th>\n",
       "      <th>CCVI score</th>\n",
       "      <th>Forecasted case trajectory</th>\n",
       "      <th>File Date</th>\n",
       "      <th>Viral (RT-PCR) lab test positivity rate - absolute change (may be an underestimate due to delayed reporting).1</th>\n",
       "      <th>Total RT-PCR diagnostic tests - % change (may be an underestimate due to delayed reporting).1</th>\n",
       "      <th>Testing latency - absolute change.1</th>\n",
       "      <th>% tests resulted in 3 or fewer days - absolute change.1</th>\n",
       "      <th>Viral (RT-PCR) lab test positivity rate - 15-21 days ago (may be an underestimate due to delayed reporting)</th>\n",
       "      <th>% tests resulted in 3 or fewer days - 15-21 days ago</th>\n",
       "      <th>% Native American / Alaskan Native</th>\n",
       "      <th>% Asian</th>\n",
       "      <th>IHE with &gt;5000 full-time enrollment_cat</th>\n",
       "      <th>Rapid Riser Category_cat</th>\n",
       "      <th>Forecasted case trajectory_cat</th>\n",
       "      <th>Area of Concern Category_cat</th>\n",
       "    </tr>\n",
       "    <tr>\n",
       "      <th>County_File_Date</th>\n",
       "      <th></th>\n",
       "      <th></th>\n",
       "      <th></th>\n",
       "      <th></th>\n",
       "      <th></th>\n",
       "      <th></th>\n",
       "      <th></th>\n",
       "      <th></th>\n",
       "      <th></th>\n",
       "      <th></th>\n",
       "      <th></th>\n",
       "      <th></th>\n",
       "      <th></th>\n",
       "      <th></th>\n",
       "      <th></th>\n",
       "      <th></th>\n",
       "      <th></th>\n",
       "      <th></th>\n",
       "      <th></th>\n",
       "      <th></th>\n",
       "      <th></th>\n",
       "      <th></th>\n",
       "      <th></th>\n",
       "      <th></th>\n",
       "      <th></th>\n",
       "      <th></th>\n",
       "      <th></th>\n",
       "      <th></th>\n",
       "      <th></th>\n",
       "      <th></th>\n",
       "      <th></th>\n",
       "      <th></th>\n",
       "      <th></th>\n",
       "      <th></th>\n",
       "      <th></th>\n",
       "      <th></th>\n",
       "      <th></th>\n",
       "      <th></th>\n",
       "      <th></th>\n",
       "      <th></th>\n",
       "      <th></th>\n",
       "      <th></th>\n",
       "      <th></th>\n",
       "      <th></th>\n",
       "      <th></th>\n",
       "      <th></th>\n",
       "      <th></th>\n",
       "      <th></th>\n",
       "      <th></th>\n",
       "      <th></th>\n",
       "      <th></th>\n",
       "      <th></th>\n",
       "      <th></th>\n",
       "      <th></th>\n",
       "      <th></th>\n",
       "      <th></th>\n",
       "      <th></th>\n",
       "      <th></th>\n",
       "      <th></th>\n",
       "      <th></th>\n",
       "      <th></th>\n",
       "      <th></th>\n",
       "      <th></th>\n",
       "      <th></th>\n",
       "      <th></th>\n",
       "      <th></th>\n",
       "      <th></th>\n",
       "      <th></th>\n",
       "      <th></th>\n",
       "      <th></th>\n",
       "      <th></th>\n",
       "      <th></th>\n",
       "      <th></th>\n",
       "    </tr>\n",
       "  </thead>\n",
       "  <tbody>\n",
       "    <tr>\n",
       "      <th>72153-2021-05-20</th>\n",
       "      <td>Yauco Municipio, PR</td>\n",
       "      <td>72153</td>\n",
       "      <td>Unknown</td>\n",
       "      <td>Metropolitan</td>\n",
       "      <td>PR</td>\n",
       "      <td>0.0105</td>\n",
       "      <td>0.0001</td>\n",
       "      <td>0.0</td>\n",
       "      <td>0.0</td>\n",
       "      <td>0.0000</td>\n",
       "      <td>-0.71</td>\n",
       "      <td>0.0</td>\n",
       "      <td>0.000120</td>\n",
       "      <td>0.0</td>\n",
       "      <td>0.0</td>\n",
       "      <td>NaN</td>\n",
       "      <td>Unknown</td>\n",
       "      <td>Substantial</td>\n",
       "      <td>High</td>\n",
       "      <td>0.085</td>\n",
       "      <td>0.0</td>\n",
       "      <td>-0.112</td>\n",
       "      <td>-0.26</td>\n",
       "      <td>0.0</td>\n",
       "      <td>0.0</td>\n",
       "      <td>1.0</td>\n",
       "      <td>1.0</td>\n",
       "      <td>0.0</td>\n",
       "      <td>0.0</td>\n",
       "      <td>0.45</td>\n",
       "      <td>0.01</td>\n",
       "      <td>0.67</td>\n",
       "      <td>0.0</td>\n",
       "      <td>0.07</td>\n",
       "      <td>0.0</td>\n",
       "      <td>-0.76</td>\n",
       "      <td>0.0</td>\n",
       "      <td>-0.12</td>\n",
       "      <td>-0.02</td>\n",
       "      <td>0.25</td>\n",
       "      <td>0.0</td>\n",
       "      <td>0.00</td>\n",
       "      <td>0.0</td>\n",
       "      <td>1.0</td>\n",
       "      <td>1.0</td>\n",
       "      <td>1.0</td>\n",
       "      <td>1.0</td>\n",
       "      <td>0.324</td>\n",
       "      <td>0.500</td>\n",
       "      <td>0.053156</td>\n",
       "      <td>0.483875</td>\n",
       "      <td>0.232375</td>\n",
       "      <td>0.0</td>\n",
       "      <td>0.0</td>\n",
       "      <td>0.0</td>\n",
       "      <td>0.0</td>\n",
       "      <td>0.0</td>\n",
       "      <td>0.0</td>\n",
       "      <td>0.0</td>\n",
       "      <td>Uncertain</td>\n",
       "      <td>2021-05-20</td>\n",
       "      <td>0.0</td>\n",
       "      <td>0.0</td>\n",
       "      <td>0.0</td>\n",
       "      <td>0.0</td>\n",
       "      <td>0.0</td>\n",
       "      <td>0.0</td>\n",
       "      <td>0.0</td>\n",
       "      <td>0.0</td>\n",
       "      <td>0</td>\n",
       "      <td>0</td>\n",
       "      <td>1</td>\n",
       "      <td>NaN</td>\n",
       "    </tr>\n",
       "    <tr>\n",
       "      <th>72153-2021-05-19</th>\n",
       "      <td>Yauco Municipio, PR</td>\n",
       "      <td>72153</td>\n",
       "      <td>Unknown</td>\n",
       "      <td>Metropolitan</td>\n",
       "      <td>PR</td>\n",
       "      <td>0.0105</td>\n",
       "      <td>0.0001</td>\n",
       "      <td>0.0</td>\n",
       "      <td>0.0</td>\n",
       "      <td>0.0000</td>\n",
       "      <td>-0.69</td>\n",
       "      <td>0.0</td>\n",
       "      <td>0.000121</td>\n",
       "      <td>0.0</td>\n",
       "      <td>0.0</td>\n",
       "      <td>NaN</td>\n",
       "      <td>Unknown</td>\n",
       "      <td>High</td>\n",
       "      <td>High</td>\n",
       "      <td>0.124</td>\n",
       "      <td>0.0</td>\n",
       "      <td>-0.054</td>\n",
       "      <td>-0.32</td>\n",
       "      <td>0.0</td>\n",
       "      <td>0.0</td>\n",
       "      <td>2.0</td>\n",
       "      <td>3.0</td>\n",
       "      <td>0.0</td>\n",
       "      <td>0.0</td>\n",
       "      <td>0.45</td>\n",
       "      <td>0.01</td>\n",
       "      <td>0.63</td>\n",
       "      <td>0.0</td>\n",
       "      <td>0.09</td>\n",
       "      <td>0.0</td>\n",
       "      <td>-0.37</td>\n",
       "      <td>0.0</td>\n",
       "      <td>-0.13</td>\n",
       "      <td>-0.02</td>\n",
       "      <td>0.18</td>\n",
       "      <td>0.0</td>\n",
       "      <td>0.02</td>\n",
       "      <td>0.0</td>\n",
       "      <td>1.0</td>\n",
       "      <td>1.0</td>\n",
       "      <td>1.0</td>\n",
       "      <td>1.0</td>\n",
       "      <td>0.318</td>\n",
       "      <td>0.497</td>\n",
       "      <td>0.053156</td>\n",
       "      <td>0.483875</td>\n",
       "      <td>0.232375</td>\n",
       "      <td>0.0</td>\n",
       "      <td>0.0</td>\n",
       "      <td>0.0</td>\n",
       "      <td>0.0</td>\n",
       "      <td>0.0</td>\n",
       "      <td>0.0</td>\n",
       "      <td>0.0</td>\n",
       "      <td>Uncertain</td>\n",
       "      <td>2021-05-19</td>\n",
       "      <td>0.0</td>\n",
       "      <td>0.0</td>\n",
       "      <td>0.0</td>\n",
       "      <td>0.0</td>\n",
       "      <td>0.0</td>\n",
       "      <td>0.0</td>\n",
       "      <td>0.0</td>\n",
       "      <td>0.0</td>\n",
       "      <td>0</td>\n",
       "      <td>0</td>\n",
       "      <td>1</td>\n",
       "      <td>NaN</td>\n",
       "    </tr>\n",
       "    <tr>\n",
       "      <th>72153-2021-05-18</th>\n",
       "      <td>Yauco Municipio, PR</td>\n",
       "      <td>72153</td>\n",
       "      <td>Unknown</td>\n",
       "      <td>Metropolitan</td>\n",
       "      <td>PR</td>\n",
       "      <td>0.0105</td>\n",
       "      <td>0.0001</td>\n",
       "      <td>0.0</td>\n",
       "      <td>0.0</td>\n",
       "      <td>0.0000</td>\n",
       "      <td>-0.70</td>\n",
       "      <td>0.0</td>\n",
       "      <td>0.000121</td>\n",
       "      <td>0.0</td>\n",
       "      <td>0.0</td>\n",
       "      <td>NaN</td>\n",
       "      <td>Unknown</td>\n",
       "      <td>High</td>\n",
       "      <td>High</td>\n",
       "      <td>0.114</td>\n",
       "      <td>0.0</td>\n",
       "      <td>-0.058</td>\n",
       "      <td>-0.22</td>\n",
       "      <td>0.0</td>\n",
       "      <td>0.0</td>\n",
       "      <td>2.0</td>\n",
       "      <td>3.0</td>\n",
       "      <td>0.0</td>\n",
       "      <td>0.0</td>\n",
       "      <td>0.46</td>\n",
       "      <td>0.02</td>\n",
       "      <td>0.58</td>\n",
       "      <td>0.0</td>\n",
       "      <td>0.09</td>\n",
       "      <td>0.0</td>\n",
       "      <td>-0.36</td>\n",
       "      <td>0.0</td>\n",
       "      <td>-0.13</td>\n",
       "      <td>-0.02</td>\n",
       "      <td>0.16</td>\n",
       "      <td>0.0</td>\n",
       "      <td>0.03</td>\n",
       "      <td>0.0</td>\n",
       "      <td>1.0</td>\n",
       "      <td>1.0</td>\n",
       "      <td>1.0</td>\n",
       "      <td>1.0</td>\n",
       "      <td>0.310</td>\n",
       "      <td>0.494</td>\n",
       "      <td>0.053156</td>\n",
       "      <td>0.483875</td>\n",
       "      <td>0.232375</td>\n",
       "      <td>0.0</td>\n",
       "      <td>0.0</td>\n",
       "      <td>0.0</td>\n",
       "      <td>0.0</td>\n",
       "      <td>0.0</td>\n",
       "      <td>0.0</td>\n",
       "      <td>0.0</td>\n",
       "      <td>Uncertain</td>\n",
       "      <td>2021-05-18</td>\n",
       "      <td>0.0</td>\n",
       "      <td>0.0</td>\n",
       "      <td>0.0</td>\n",
       "      <td>0.0</td>\n",
       "      <td>0.0</td>\n",
       "      <td>0.0</td>\n",
       "      <td>0.0</td>\n",
       "      <td>0.0</td>\n",
       "      <td>0</td>\n",
       "      <td>0</td>\n",
       "      <td>1</td>\n",
       "      <td>NaN</td>\n",
       "    </tr>\n",
       "    <tr>\n",
       "      <th>72153-2021-05-17</th>\n",
       "      <td>Yauco Municipio, PR</td>\n",
       "      <td>72153</td>\n",
       "      <td>Unknown</td>\n",
       "      <td>Metropolitan</td>\n",
       "      <td>PR</td>\n",
       "      <td>0.0105</td>\n",
       "      <td>0.0001</td>\n",
       "      <td>0.0</td>\n",
       "      <td>0.0</td>\n",
       "      <td>0.0000</td>\n",
       "      <td>-0.75</td>\n",
       "      <td>0.0</td>\n",
       "      <td>0.000126</td>\n",
       "      <td>0.0</td>\n",
       "      <td>0.0</td>\n",
       "      <td>NaN</td>\n",
       "      <td>Unknown</td>\n",
       "      <td>High</td>\n",
       "      <td>High</td>\n",
       "      <td>0.113</td>\n",
       "      <td>0.0</td>\n",
       "      <td>-0.082</td>\n",
       "      <td>-0.07</td>\n",
       "      <td>0.0</td>\n",
       "      <td>0.0</td>\n",
       "      <td>2.0</td>\n",
       "      <td>3.0</td>\n",
       "      <td>0.0</td>\n",
       "      <td>0.0</td>\n",
       "      <td>0.47</td>\n",
       "      <td>0.02</td>\n",
       "      <td>0.56</td>\n",
       "      <td>0.0</td>\n",
       "      <td>0.06</td>\n",
       "      <td>0.0</td>\n",
       "      <td>-0.52</td>\n",
       "      <td>0.0</td>\n",
       "      <td>-0.13</td>\n",
       "      <td>-0.02</td>\n",
       "      <td>0.19</td>\n",
       "      <td>0.0</td>\n",
       "      <td>0.01</td>\n",
       "      <td>0.0</td>\n",
       "      <td>1.0</td>\n",
       "      <td>1.0</td>\n",
       "      <td>1.0</td>\n",
       "      <td>1.0</td>\n",
       "      <td>0.310</td>\n",
       "      <td>0.494</td>\n",
       "      <td>0.053156</td>\n",
       "      <td>0.483875</td>\n",
       "      <td>0.232375</td>\n",
       "      <td>0.0</td>\n",
       "      <td>0.0</td>\n",
       "      <td>0.0</td>\n",
       "      <td>0.0</td>\n",
       "      <td>0.0</td>\n",
       "      <td>0.0</td>\n",
       "      <td>0.0</td>\n",
       "      <td>Uncertain</td>\n",
       "      <td>2021-05-17</td>\n",
       "      <td>0.0</td>\n",
       "      <td>0.0</td>\n",
       "      <td>0.0</td>\n",
       "      <td>0.0</td>\n",
       "      <td>0.0</td>\n",
       "      <td>0.0</td>\n",
       "      <td>0.0</td>\n",
       "      <td>0.0</td>\n",
       "      <td>0</td>\n",
       "      <td>0</td>\n",
       "      <td>1</td>\n",
       "      <td>NaN</td>\n",
       "    </tr>\n",
       "    <tr>\n",
       "      <th>72153-2021-05-16</th>\n",
       "      <td>Yauco Municipio, PR</td>\n",
       "      <td>72153</td>\n",
       "      <td>Unknown</td>\n",
       "      <td>Metropolitan</td>\n",
       "      <td>PR</td>\n",
       "      <td>0.0105</td>\n",
       "      <td>0.0001</td>\n",
       "      <td>0.0</td>\n",
       "      <td>0.0</td>\n",
       "      <td>0.0001</td>\n",
       "      <td>-0.60</td>\n",
       "      <td>0.0</td>\n",
       "      <td>0.000119</td>\n",
       "      <td>0.0</td>\n",
       "      <td>0.0</td>\n",
       "      <td>NaN</td>\n",
       "      <td>Unknown</td>\n",
       "      <td>High</td>\n",
       "      <td>High</td>\n",
       "      <td>0.124</td>\n",
       "      <td>0.0</td>\n",
       "      <td>-0.066</td>\n",
       "      <td>-0.23</td>\n",
       "      <td>0.0</td>\n",
       "      <td>0.0</td>\n",
       "      <td>3.0</td>\n",
       "      <td>4.0</td>\n",
       "      <td>0.0</td>\n",
       "      <td>0.0</td>\n",
       "      <td>0.49</td>\n",
       "      <td>0.02</td>\n",
       "      <td>0.51</td>\n",
       "      <td>0.0</td>\n",
       "      <td>0.06</td>\n",
       "      <td>0.0</td>\n",
       "      <td>-0.27</td>\n",
       "      <td>0.0</td>\n",
       "      <td>-0.13</td>\n",
       "      <td>-0.02</td>\n",
       "      <td>0.17</td>\n",
       "      <td>0.0</td>\n",
       "      <td>0.02</td>\n",
       "      <td>0.0</td>\n",
       "      <td>1.0</td>\n",
       "      <td>1.0</td>\n",
       "      <td>1.0</td>\n",
       "      <td>1.0</td>\n",
       "      <td>0.310</td>\n",
       "      <td>0.494</td>\n",
       "      <td>0.053156</td>\n",
       "      <td>0.483875</td>\n",
       "      <td>0.232375</td>\n",
       "      <td>0.0</td>\n",
       "      <td>0.0</td>\n",
       "      <td>0.0</td>\n",
       "      <td>0.0</td>\n",
       "      <td>0.0</td>\n",
       "      <td>0.0</td>\n",
       "      <td>0.0</td>\n",
       "      <td>Uncertain</td>\n",
       "      <td>2021-05-16</td>\n",
       "      <td>0.0</td>\n",
       "      <td>0.0</td>\n",
       "      <td>0.0</td>\n",
       "      <td>0.0</td>\n",
       "      <td>0.0</td>\n",
       "      <td>0.0</td>\n",
       "      <td>0.0</td>\n",
       "      <td>0.0</td>\n",
       "      <td>0</td>\n",
       "      <td>0</td>\n",
       "      <td>1</td>\n",
       "      <td>NaN</td>\n",
       "    </tr>\n",
       "  </tbody>\n",
       "</table>\n",
       "</div>"
      ],
      "text/plain": [
       "                               County  FIPS code County type     CBSA type State Abbreviation  Population as a percent of state  Population as a percent of national population  IHE with >5000 full-time enrollment  IHE Full-time enrollment as a percent of the population  Cases as a percent of national total - last 7 days  Cases - % change  Deaths - % change  Cases as a percent of national total - previous 7 days  Rapid rise (last 14 days)  Number of days of downward case trajectory Area of Concern Category Rapid Riser Category Community Transmission Level - last 7 days Community Transmission Level - previous 7 days  Viral (RT-PCR) lab test positivity rate - last 7 days (may be an underestimate due to delayed reporting)  % tests resulted in 3 or fewer days - last 7 days  Viral (RT-PCR) lab test positivity rate - absolute change (may be an underestimate due to delayed reporting)  Total RT-PCR diagnostic tests - % change (may be an underestimate due to delayed reporting)  \\\n",
       "County_File_Date                                                                                                                                                                                                                                                                                                                                                                                                                                                                                                                                                                                                                                                                                                                                                                                                                                                                                                                                                                                                        \n",
       "72153-2021-05-20  Yauco Municipio, PR      72153     Unknown  Metropolitan                 PR                            0.0105                                          0.0001                                  0.0                                                0.0                                                   0.0000              -0.71                0.0                                           0.000120                             0.0                                         0.0                      NaN              Unknown                                Substantial                                           High                                              0.085                                                                                                       0.0                                             -0.112                                                                                                         -0.26                                             \n",
       "72153-2021-05-19  Yauco Municipio, PR      72153     Unknown  Metropolitan                 PR                            0.0105                                          0.0001                                  0.0                                                0.0                                                   0.0000              -0.69                0.0                                           0.000121                             0.0                                         0.0                      NaN              Unknown                                       High                                           High                                              0.124                                                                                                       0.0                                             -0.054                                                                                                         -0.32                                             \n",
       "72153-2021-05-18  Yauco Municipio, PR      72153     Unknown  Metropolitan                 PR                            0.0105                                          0.0001                                  0.0                                                0.0                                                   0.0000              -0.70                0.0                                           0.000121                             0.0                                         0.0                      NaN              Unknown                                       High                                           High                                              0.114                                                                                                       0.0                                             -0.058                                                                                                         -0.22                                             \n",
       "72153-2021-05-17  Yauco Municipio, PR      72153     Unknown  Metropolitan                 PR                            0.0105                                          0.0001                                  0.0                                                0.0                                                   0.0000              -0.75                0.0                                           0.000126                             0.0                                         0.0                      NaN              Unknown                                       High                                           High                                              0.113                                                                                                       0.0                                             -0.082                                                                                                         -0.07                                             \n",
       "72153-2021-05-16  Yauco Municipio, PR      72153     Unknown  Metropolitan                 PR                            0.0105                                          0.0001                                  0.0                                                0.0                                                   0.0001              -0.60                0.0                                           0.000119                             0.0                                         0.0                      NaN              Unknown                                       High                                           High                                              0.124                                                                                                       0.0                                             -0.066                                                                                                         -0.23                                             \n",
       "\n",
       "                  Testing latency - absolute change  % tests resulted in 3 or fewer days - absolute change  Confirmed COVID-19 admissions - last 7 days  Confirmed COVID-19 admissions per 100 inpatient beds - last 7 days  Suspected COVID-19 admissions - last 7 days  Suspected COVID-19 admissions per 100 inpatient beds - last 7 days  % inpatient beds occupied  % inpatient beds occupied by COVID-19 patient  % staffed adult ICU beds occupied  % staffed adult ICU beds occupied by COVID-19 patient  % ventilators in use  % ventilators in use by COVID-19 patient  Confirmed COVID-19 admissions per 100 inpatient beds - percent increase  Suspected COVID-19 admissions per 100 inpatient beds - percent increase  % inpatient beds occupied - absolute change  % inpatient beds occupied by COVID-19 patient - absolute change  % staffed adult ICU beds occupied - absolute change  % staffed adult ICU beds occupied by COVID-19 patient - absolute change  % ventilators in use - absolute change  \\\n",
       "County_File_Date                                                                                                                                                                                                                                                                                                                                                                                                                                                                                                                                                                                                                                                                                                                                                                                                                                                                                                                                                                                                         \n",
       "72153-2021-05-20                                0.0                                                0.0                                              1.0                                                1.0                                                           0.0                                                0.0                                        0.45                                           0.01                               0.67                                                0.0                      0.07                                       0.0                                              -0.76                                                                      0.0                                                              -0.12                                              -0.02                                                             0.25                                                  0.0                                                          0.00   \n",
       "72153-2021-05-19                                0.0                                                0.0                                              2.0                                                3.0                                                           0.0                                                0.0                                        0.45                                           0.01                               0.63                                                0.0                      0.09                                       0.0                                              -0.37                                                                      0.0                                                              -0.13                                              -0.02                                                             0.18                                                  0.0                                                          0.02   \n",
       "72153-2021-05-18                                0.0                                                0.0                                              2.0                                                3.0                                                           0.0                                                0.0                                        0.46                                           0.02                               0.58                                                0.0                      0.09                                       0.0                                              -0.36                                                                      0.0                                                              -0.13                                              -0.02                                                             0.16                                                  0.0                                                          0.03   \n",
       "72153-2021-05-17                                0.0                                                0.0                                              2.0                                                3.0                                                           0.0                                                0.0                                        0.47                                           0.02                               0.56                                                0.0                      0.06                                       0.0                                              -0.52                                                                      0.0                                                              -0.13                                              -0.02                                                             0.19                                                  0.0                                                          0.01   \n",
       "72153-2021-05-16                                0.0                                                0.0                                              3.0                                                4.0                                                           0.0                                                0.0                                        0.49                                           0.02                               0.51                                                0.0                      0.06                                       0.0                                              -0.27                                                                      0.0                                                              -0.13                                              -0.02                                                             0.17                                                  0.0                                                          0.02   \n",
       "\n",
       "                  % ventilators in use by COVID-19 patient - absolute change  % hospital CCNs reporting any utilization data at least once - last 7 days  % hospital CCNs reporting all utilization data  at least once - last 7 days  % hospital CCNs ever reporting utilization data  % hospital CCNs reporting COVID-19 admissions at least once - last 7 days  People who are fully vaccinated as % of total population  People who are fully vaccinated as % of population - ages 65+  % Uninsured  % In Poverty  % Over Age 65  Average household size  % Non-Hispanic Black  % Hispanic  % Non-Hispanic Native American / Alaskan Native  % Non-Hispanic Asian  SVI score  CCVI score Forecasted case trajectory   File Date  Viral (RT-PCR) lab test positivity rate - absolute change (may be an underestimate due to delayed reporting).1  Total RT-PCR diagnostic tests - % change (may be an underestimate due to delayed reporting).1  Testing latency - absolute change.1  \\\n",
       "County_File_Date                                                                                                                                                                                                                                                                                                                                                                                                                                                                                                                                                                                                                                                                                                                                                                                                                                                                                                                                                                          \n",
       "72153-2021-05-20                                                0.0                                                         1.0                                                                         1.0                                                                        1.0                                                1.0                                                                      0.324                                                     0.500                 0.053156      0.483875       0.232375                     0.0                   0.0         0.0                                              0.0                   0.0        0.0         0.0                  Uncertain  2021-05-20                                                0.0                                                                                                             0.0                                                                              0.0   \n",
       "72153-2021-05-19                                                0.0                                                         1.0                                                                         1.0                                                                        1.0                                                1.0                                                                      0.318                                                     0.497                 0.053156      0.483875       0.232375                     0.0                   0.0         0.0                                              0.0                   0.0        0.0         0.0                  Uncertain  2021-05-19                                                0.0                                                                                                             0.0                                                                              0.0   \n",
       "72153-2021-05-18                                                0.0                                                         1.0                                                                         1.0                                                                        1.0                                                1.0                                                                      0.310                                                     0.494                 0.053156      0.483875       0.232375                     0.0                   0.0         0.0                                              0.0                   0.0        0.0         0.0                  Uncertain  2021-05-18                                                0.0                                                                                                             0.0                                                                              0.0   \n",
       "72153-2021-05-17                                                0.0                                                         1.0                                                                         1.0                                                                        1.0                                                1.0                                                                      0.310                                                     0.494                 0.053156      0.483875       0.232375                     0.0                   0.0         0.0                                              0.0                   0.0        0.0         0.0                  Uncertain  2021-05-17                                                0.0                                                                                                             0.0                                                                              0.0   \n",
       "72153-2021-05-16                                                0.0                                                         1.0                                                                         1.0                                                                        1.0                                                1.0                                                                      0.310                                                     0.494                 0.053156      0.483875       0.232375                     0.0                   0.0         0.0                                              0.0                   0.0        0.0         0.0                  Uncertain  2021-05-16                                                0.0                                                                                                             0.0                                                                              0.0   \n",
       "\n",
       "                  % tests resulted in 3 or fewer days - absolute change.1  Viral (RT-PCR) lab test positivity rate - 15-21 days ago (may be an underestimate due to delayed reporting)  % tests resulted in 3 or fewer days - 15-21 days ago  % Native American / Alaskan Native  % Asian  IHE with >5000 full-time enrollment_cat  Rapid Riser Category_cat  Forecasted case trajectory_cat  Area of Concern Category_cat  \n",
       "County_File_Date                                                                                                                                                                                                                                                                                                                                                                                                            \n",
       "72153-2021-05-20                                                0.0                                                      0.0                                                                                                          0.0                                    0.0      0.0                                        0                         0                               1                           NaN  \n",
       "72153-2021-05-19                                                0.0                                                      0.0                                                                                                          0.0                                    0.0      0.0                                        0                         0                               1                           NaN  \n",
       "72153-2021-05-18                                                0.0                                                      0.0                                                                                                          0.0                                    0.0      0.0                                        0                         0                               1                           NaN  \n",
       "72153-2021-05-17                                                0.0                                                      0.0                                                                                                          0.0                                    0.0      0.0                                        0                         0                               1                           NaN  \n",
       "72153-2021-05-16                                                0.0                                                      0.0                                                                                                          0.0                                    0.0      0.0                                        0                         0                               1                           NaN  "
      ]
     },
     "execution_count": 53,
     "metadata": {},
     "output_type": "execute_result"
    }
   ],
   "source": [
    "new_reduced_df.head()"
   ]
  },
  {
   "cell_type": "code",
   "execution_count": 54,
   "id": "activated-experiment",
   "metadata": {},
   "outputs": [],
   "source": [
    "new_reduced_df['Area of Concern Category'].fillna('Unknown', inplace=True)"
   ]
  },
  {
   "cell_type": "markdown",
   "id": "mediterranean-notion",
   "metadata": {},
   "source": [
    "Here we try to get the mean of the case trajectory as it relates to the area of concern category.  Based on the calculated mean, we'll assign the ordinals for those labels in that order."
   ]
  },
  {
   "cell_type": "code",
   "execution_count": 55,
   "id": "after-tonight",
   "metadata": {},
   "outputs": [
    {
     "data": {
      "text/html": [
       "<div>\n",
       "<style scoped>\n",
       "    .dataframe tbody tr th:only-of-type {\n",
       "        vertical-align: middle;\n",
       "    }\n",
       "\n",
       "    .dataframe tbody tr th {\n",
       "        vertical-align: top;\n",
       "    }\n",
       "\n",
       "    .dataframe thead th {\n",
       "        text-align: right;\n",
       "    }\n",
       "</style>\n",
       "<table border=\"1\" class=\"dataframe\">\n",
       "  <thead>\n",
       "    <tr style=\"text-align: right;\">\n",
       "      <th></th>\n",
       "      <th>Forecasted case trajectory_cat</th>\n",
       "    </tr>\n",
       "    <tr>\n",
       "      <th>Area of Concern Category</th>\n",
       "      <th></th>\n",
       "    </tr>\n",
       "  </thead>\n",
       "  <tbody>\n",
       "    <tr>\n",
       "      <th>HighBurdenResolving</th>\n",
       "      <td>0.785109</td>\n",
       "    </tr>\n",
       "    <tr>\n",
       "      <th>SustainedHotspot</th>\n",
       "      <td>0.800437</td>\n",
       "    </tr>\n",
       "    <tr>\n",
       "      <th>ModerateBurdenResolving</th>\n",
       "      <td>0.880722</td>\n",
       "    </tr>\n",
       "    <tr>\n",
       "      <th>EmergingHotspot</th>\n",
       "      <td>0.895605</td>\n",
       "    </tr>\n",
       "    <tr>\n",
       "      <th>Hotspot</th>\n",
       "      <td>0.949473</td>\n",
       "    </tr>\n",
       "    <tr>\n",
       "      <th>ModerateBurden</th>\n",
       "      <td>0.964094</td>\n",
       "    </tr>\n",
       "    <tr>\n",
       "      <th>LowBurden</th>\n",
       "      <td>0.993708</td>\n",
       "    </tr>\n",
       "    <tr>\n",
       "      <th>Unknown</th>\n",
       "      <td>1.000000</td>\n",
       "    </tr>\n",
       "  </tbody>\n",
       "</table>\n",
       "</div>"
      ],
      "text/plain": [
       "                          Forecasted case trajectory_cat\n",
       "Area of Concern Category                                \n",
       "HighBurdenResolving                             0.785109\n",
       "SustainedHotspot                                0.800437\n",
       "ModerateBurdenResolving                         0.880722\n",
       "EmergingHotspot                                 0.895605\n",
       "Hotspot                                         0.949473\n",
       "ModerateBurden                                  0.964094\n",
       "LowBurden                                       0.993708\n",
       "Unknown                                         1.000000"
      ]
     },
     "execution_count": 55,
     "metadata": {},
     "output_type": "execute_result"
    }
   ],
   "source": [
    "sortable_df = new_reduced_df.groupby('Area of Concern Category')['Forecasted case trajectory_cat'].mean().to_frame()\n",
    "sortable_df.sort_values('Forecasted case trajectory_cat')"
   ]
  },
  {
   "cell_type": "code",
   "execution_count": 56,
   "id": "devoted-potter",
   "metadata": {},
   "outputs": [],
   "source": [
    "new_reduced_df['Area of Concern Category_cat'] = new_reduced_df['Area of Concern Category'].map({'HighBurdenResolving':0, \n",
    "                                                                               'SustainedHotspot':1, \n",
    "                                                                               'ModerateBurdenResolving':2, \n",
    "                                                                               'EmergingHotspot':3, 'Hotspot':4, \n",
    "                                                                               'ModerateBurden':5,\n",
    "                                                                               'LowBurden':6 })"
   ]
  },
  {
   "cell_type": "code",
   "execution_count": 57,
   "id": "spiritual-sleeping",
   "metadata": {},
   "outputs": [],
   "source": [
    "\n",
    "new_reduced_df['% hospital CCNs reporting all utilization data  at least once - last 7 days'].fillna(0, inplace=True)"
   ]
  },
  {
   "cell_type": "markdown",
   "id": "patent-defensive",
   "metadata": {},
   "source": [
    "Check percentage column values to make sure that 1 means 100%"
   ]
  },
  {
   "cell_type": "code",
   "execution_count": 58,
   "id": "corrected-queen",
   "metadata": {},
   "outputs": [
    {
     "data": {
      "text/plain": [
       "count    405679.000000\n",
       "mean          0.704460\n",
       "std           0.448616\n",
       "min           0.000000\n",
       "25%           0.000000\n",
       "50%           1.000000\n",
       "75%           1.000000\n",
       "max           1.000000\n",
       "Name: % hospital CCNs reporting all utilization data  at least once - last 7 days, dtype: float64"
      ]
     },
     "execution_count": 58,
     "metadata": {},
     "output_type": "execute_result"
    }
   ],
   "source": [
    "new_reduced_df['% hospital CCNs reporting all utilization data  at least once - last 7 days'].describe()"
   ]
  },
  {
   "cell_type": "code",
   "execution_count": 59,
   "id": "positive-military",
   "metadata": {},
   "outputs": [
    {
     "data": {
      "text/plain": [
       "Unknown        209259\n",
       "High            75672\n",
       "Substantial     59128\n",
       "Moderate        47738\n",
       "Low             13882\n",
       "Name: Community Transmission Level - last 7 days, dtype: int64"
      ]
     },
     "execution_count": 59,
     "metadata": {},
     "output_type": "execute_result"
    }
   ],
   "source": [
    "new_reduced_df['Community Transmission Level - last 7 days'].value_counts()"
   ]
  },
  {
   "cell_type": "code",
   "execution_count": 60,
   "id": "equal-russian",
   "metadata": {},
   "outputs": [
    {
     "data": {
      "text/plain": [
       "Index(['Unknown', 'High', 'Substantial', 'Moderate', 'Low'], dtype='object')"
      ]
     },
     "execution_count": 60,
     "metadata": {},
     "output_type": "execute_result"
    }
   ],
   "source": [
    "new_reduced_df['Community Transmission Level - last 7 days'].value_counts().index"
   ]
  },
  {
   "cell_type": "code",
   "execution_count": 61,
   "id": "asian-corrections",
   "metadata": {},
   "outputs": [],
   "source": [
    "cat_col_name = 'Community Transmission Level - last 7 days'\n",
    "com_trans_last_7_cat = {'High':4, 'Substantial':3, 'Moderate':2, 'Low':1,'Unknown':0}\n",
    "new_reduced_df['Com Trans Last7_cat'] = new_reduced_df[cat_col_name].map(com_trans_last_7_cat)"
   ]
  },
  {
   "cell_type": "code",
   "execution_count": 62,
   "id": "direct-blair",
   "metadata": {},
   "outputs": [
    {
     "data": {
      "text/plain": [
       "Index(['Unknown', 'Metropolitan', 'Micropolitan'], dtype='object')"
      ]
     },
     "execution_count": 62,
     "metadata": {},
     "output_type": "execute_result"
    }
   ],
   "source": [
    "#new_reduced_df['CBSA type'].value_counts()\n",
    "new_reduced_df['CBSA type'].value_counts().index"
   ]
  },
  {
   "cell_type": "code",
   "execution_count": 63,
   "id": "earned-tooth",
   "metadata": {},
   "outputs": [],
   "source": [
    "cat_col_name = 'CBSA type'\n",
    "cbsa_type_cat = {'Metropolitan':0, 'Micropolitan':1, 'Unknown':2}\n",
    "new_reduced_df['CBSA type_cat'] = new_reduced_df[cat_col_name].map(cbsa_type_cat)"
   ]
  },
  {
   "cell_type": "code",
   "execution_count": 64,
   "id": "royal-hollywood",
   "metadata": {},
   "outputs": [
    {
     "data": {
      "text/plain": [
       "Index(['Non-core', 'Micropolitan', 'Medium metro', 'Large fringe metro', 'Small metro', 'Unknown', 'Large central metro'], dtype='object')"
      ]
     },
     "execution_count": 64,
     "metadata": {},
     "output_type": "execute_result"
    }
   ],
   "source": [
    "new_reduced_df['County type'].value_counts().index"
   ]
  },
  {
   "cell_type": "code",
   "execution_count": 65,
   "id": "inappropriate-region",
   "metadata": {},
   "outputs": [
    {
     "data": {
      "text/plain": [
       "Index(['Non-core', 'Micropolitan', 'Unknown', 'Small metro', 'Large fringe metro', 'Medium metro', 'Large central metro'], dtype='object', name='County type')"
      ]
     },
     "execution_count": 65,
     "metadata": {},
     "output_type": "execute_result"
    }
   ],
   "source": [
    "new_reduced_df.groupby('County type')['Population as a percent of state'].mean().sort_values().index"
   ]
  },
  {
   "cell_type": "code",
   "execution_count": 66,
   "id": "opposite-tuesday",
   "metadata": {},
   "outputs": [],
   "source": [
    " # Sorting County type by population percentage to figure out cat number\n",
    "county_type_cat = {'Non-core':0, 'Micropolitan':1, 'Unknown':2, 'Small metro':3, \n",
    "'Large fringe metro':4, 'Medium metro':5, 'Large central metro':6}\n",
    "\n",
    "cat_col_name = 'County type'\n",
    "\n",
    "new_reduced_df['County type_cat'] = new_reduced_df[cat_col_name].map(county_type_cat)"
   ]
  },
  {
   "cell_type": "code",
   "execution_count": 67,
   "id": "marked-recruitment",
   "metadata": {},
   "outputs": [],
   "source": [
    "fillna_columns = ['Population as a percent of state','Population as a percent of national population']\n",
    "for col in fillna_columns:\n",
    "    new_reduced_df[col].fillna(0, inplace=True)\n"
   ]
  },
  {
   "cell_type": "markdown",
   "id": "juvenile-democracy",
   "metadata": {},
   "source": [
    "Cases as a percent of national total - last 7 days\n",
    "Area of Concern Category\n",
    "People who are fully vaccinated as % of total population\n",
    "People who are fully vaccinated as % of population - ages 65+"
   ]
  },
  {
   "cell_type": "code",
   "execution_count": null,
   "id": "compatible-magic",
   "metadata": {},
   "outputs": [],
   "source": []
  },
  {
   "cell_type": "markdown",
   "id": "ultimate-price",
   "metadata": {},
   "source": [
    "The following columns appear to be good candidates for diffing previous date values.  \n",
    "\n",
    "Note that the dataset has the rows in order of county (FIPS id) + file date values.  For almost every county, the row with the earliest recorded data will be adjacent to another county's row of their latest data\n",
    "\n",
    "Suppose we have:\n",
    "\n",
    "| FIPS ID | File Date | Column to be diffed |\n",
    "|---|---|---|\n",
    "| 05 | 2021-04-30  | National Total Cases |\n",
    "| 05 | 2021-01-02  | National Total Cases |\n",
    "| 04 | 2021-04-30  | National Total Cases |\n",
    "\n",
    "We see that the row for FIPS id 05 for 2021-01-02 is right above FIPS id 04 for 2021-04-30.  When the rows get diffed, the *pandas diff* for (id 05)-2021-01-02 will subtract the data from (id 04), which we don't want.  So we'll need to zero that out."
   ]
  },
  {
   "cell_type": "code",
   "execution_count": 68,
   "id": "convertible-fitness",
   "metadata": {},
   "outputs": [],
   "source": [
    "new_reduced_df['cases_national_total_change'] = new_reduced_df['Cases as a percent of national total - last 7 days']\n",
    "new_reduced_df['total_full_vac_%_change'] = new_reduced_df['People who are fully vaccinated as % of total population']\n",
    "new_reduced_df['age_65_full_vac_%_change'] = new_reduced_df['People who are fully vaccinated as % of population - ages 65+']\n"
   ]
  },
  {
   "cell_type": "code",
   "execution_count": 69,
   "id": "imperial-regular",
   "metadata": {},
   "outputs": [],
   "source": [
    "\n",
    "diff_cols = ['cases_national_total_change', 'total_full_vac_%_change', 'age_65_full_vac_%_change']\n",
    "for col in diff_cols:\n",
    "    new_reduced_df[col] = new_reduced_df[col].diff(periods=-1)\n"
   ]
  },
  {
   "cell_type": "code",
   "execution_count": 70,
   "id": "medium-printing",
   "metadata": {},
   "outputs": [
    {
     "data": {
      "text/plain": [
       "FIPS code\n",
       "1000     2021-01-02\n",
       "1001     2021-01-02\n",
       "1003     2021-01-02\n",
       "1005     2021-01-02\n",
       "1007     2021-01-02\n",
       "            ...    \n",
       "72145    2021-01-02\n",
       "72147    2021-01-02\n",
       "72149    2021-01-02\n",
       "72151    2021-01-02\n",
       "72153    2021-01-02\n",
       "Name: File Date, Length: 3272, dtype: object"
      ]
     },
     "execution_count": 70,
     "metadata": {},
     "output_type": "execute_result"
    }
   ],
   "source": [
    "new_reduced_df.groupby('FIPS code')['File Date'].agg('min')"
   ]
  },
  {
   "cell_type": "code",
   "execution_count": 71,
   "id": "lasting-disabled",
   "metadata": {},
   "outputs": [],
   "source": [
    "'''Functions to adjust diffing for when one county row is adjacent to another county's row '''\n",
    "\n",
    "def reset_min_row(row):\n",
    "    if row['File Date'] == '2021-01-02':\n",
    "        return 0\n",
    "    else:\n",
    "        return row['cases_national_total_change']\n",
    "        \n",
    "\n",
    "def reset_total_vac_min_row(row):\n",
    "    if row['File Date'] == '2021-01-02':\n",
    "        return 0\n",
    "    else:\n",
    "        return row['total_full_vac_%_change']\n",
    "        \n",
    "\n",
    "    \n",
    "def reset_age65_vac_min_row(row):\n",
    "    if row['File Date'] == '2021-01-02':\n",
    "        return 0\n",
    "    else:\n",
    "        return row['age_65_full_vac_%_change']\n",
    "        \n"
   ]
  },
  {
   "cell_type": "code",
   "execution_count": 72,
   "id": "closed-ideal",
   "metadata": {},
   "outputs": [],
   "source": [
    "# cases_national_total_change \ttotal_full_vac_%_change \tage_65_full_vac_%_change\n",
    "new_reduced_df['cases_national_total_change'] = new_reduced_df.apply(reset_min_row, axis=1)\n",
    "new_reduced_df['total_full_vac_%_change'] = new_reduced_df.apply(reset_total_vac_min_row, axis=1)\n",
    "new_reduced_df['age_65_full_vac_%_change'] = new_reduced_df.apply(reset_age65_vac_min_row, axis=1)"
   ]
  },
  {
   "cell_type": "markdown",
   "id": "confused-energy",
   "metadata": {},
   "source": [
    "More clean up.  Change the ordinal column names to be more uniform with lower case, so easier for anyone dealing with the data to see what was engineered."
   ]
  },
  {
   "cell_type": "code",
   "execution_count": 73,
   "id": "indian-bible",
   "metadata": {},
   "outputs": [],
   "source": [
    "rename_cols_dict = {'IHE with >5000 full-time enrollment_cat':'ihe_plus_5000_fte_cat',\n",
    "                    'Rapid Riser Category_cat':'rapid_riser_cat',\n",
    "                    'Forecasted case trajectory_cat':'forecast_case_traj_cat',\n",
    "                    'Area of Concern Category_cat':'area_of_concern_cat',\n",
    "                    'Com Trans Last7_cat':'com_trans_last7_cat',\n",
    "                    'CBSA type_cat':'cbsa_type_cat',\n",
    "                    'County type_cat':'county_type_cat'}\n",
    "new_reduced_df.rename(columns=rename_cols_dict, inplace=True)"
   ]
  },
  {
   "cell_type": "markdown",
   "id": "applied-paraguay",
   "metadata": {},
   "source": [
    "Remove rows for counties that aren't in the other datasets that this will be joined with.\n",
    "\n",
    "* Only counties that belong to states are included\n",
    "* Remove Puerto Rican Counties\n",
    "* Remove Counties that have the word unallocated in the name"
   ]
  },
  {
   "cell_type": "code",
   "execution_count": 74,
   "id": "artificial-brunei",
   "metadata": {},
   "outputs": [],
   "source": [
    "new_reduced_df = new_reduced_df[(new_reduced_df['County'].map(lambda x: 'Unallocated' not in x))]"
   ]
  },
  {
   "cell_type": "code",
   "execution_count": 75,
   "id": "metric-jumping",
   "metadata": {},
   "outputs": [],
   "source": [
    "new_reduced_df = new_reduced_df[(new_reduced_df['State Abbreviation'] != 'PR')]"
   ]
  },
  {
   "cell_type": "markdown",
   "id": "embedded-italic",
   "metadata": {},
   "source": [
    "## Now we have the final version which can be joined with other project data"
   ]
  },
  {
   "cell_type": "code",
   "execution_count": 76,
   "id": "conscious-emphasis",
   "metadata": {},
   "outputs": [],
   "source": [
    "new_reduced_df.to_csv('../data/counties_diffed.csv', index=False)"
   ]
  },
  {
   "cell_type": "code",
   "execution_count": null,
   "id": "established-reputation",
   "metadata": {},
   "outputs": [],
   "source": []
  },
  {
   "cell_type": "code",
   "execution_count": null,
   "id": "exciting-empty",
   "metadata": {},
   "outputs": [],
   "source": []
  }
 ],
 "metadata": {
  "kernelspec": {
   "display_name": "Python 3",
   "language": "python",
   "name": "python3"
  },
  "language_info": {
   "codemirror_mode": {
    "name": "ipython",
    "version": 3
   },
   "file_extension": ".py",
   "mimetype": "text/x-python",
   "name": "python",
   "nbconvert_exporter": "python",
   "pygments_lexer": "ipython3",
   "version": "3.8.5"
  }
 },
 "nbformat": 4,
 "nbformat_minor": 5
}
